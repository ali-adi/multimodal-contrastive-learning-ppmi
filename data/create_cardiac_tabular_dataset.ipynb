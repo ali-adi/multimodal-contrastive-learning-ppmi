{
 "cells": [
  {
   "cell_type": "markdown",
   "id": "c49a1c64-c7c5-495c-abd1-80105c7362c5",
   "metadata": {},
   "source": [
    "# Import"
   ]
  },
  {
   "cell_type": "code",
   "execution_count": null,
   "id": "b3089492-3c78-44a7-9530-cfe712b92f75",
   "metadata": {
    "tags": []
   },
   "outputs": [],
   "source": [
    "import os\n",
    "from os.path import join\n",
    "from glob import glob\n",
    "\n",
    "import numpy as np\n",
    "import warnings\n",
    "warnings.simplefilter(action='ignore', category=FutureWarning)\n",
    "import pandas as pd\n",
    "import seaborn as sns\n",
    "from matplotlib import pyplot as plt\n",
    "\n",
    "import sys\n",
    "sys.path.append(\"./\")\n",
    "from tabular_utils import *"
   ]
  },
  {
   "cell_type": "code",
   "execution_count": null,
   "id": "b5e2df34-6370-4ab3-a5a3-f4a50300804c",
   "metadata": {},
   "outputs": [],
   "source": [
    "pd.options.display.max_columns = 700"
   ]
  },
  {
   "cell_type": "markdown",
   "id": "fc216f40",
   "metadata": {},
   "source": [
    "# Set Paths"
   ]
  },
  {
   "cell_type": "markdown",
   "id": "89794523",
   "metadata": {},
   "source": [
    "**IMPORTANT:** Set the correct base path to the data folder containing the raw data here. Set SAVE to True if you want to load the full data from scratch and save all the generated tables. Leave it to False if you are using files already created and just want to see what was done to the data."
   ]
  },
  {
   "cell_type": "code",
   "execution_count": null,
   "id": "a2ac9019",
   "metadata": {},
   "outputs": [],
   "source": [
    "BASE_PATH = os.getenv('CARDIAC_BASE_PATH')\n",
    "BASE_PATH = join(BASE_PATH, '668815','tabular')\n",
    "SUBJECT_DATA = os.getenv('CARDIAC_SUBJECT_PATH')\n",
    "RAW_DATA_PATH = os.getenv('UKBB_668815_PATH')\n",
    "DATA_PATH = join(RAW_DATA_PATH,'ukb668815.csv')\n",
    "CARDIAC_FEATURES_PATH = join(BASE_PATH,'cardiac_features_668815.csv')\n",
    "CARDIAC_PATIENTS_PATH = join(BASE_PATH,'cardiac_features_668815_imaging.csv')\n",
    "CLEAN_FEATURES_PATH = join(BASE_PATH,'cardiac_features_clean_668815.csv')\n",
    "DATADICT_PATH = join(BASE_PATH,'Data_Dictionary_Showcase.csv')\n",
    "BRIDGE_PATH = join(BASE_PATH,'Bridge_eids_60520_87802.csv')\n",
    "\n",
    "SAVE = True"
   ]
  },
  {
   "cell_type": "markdown",
   "id": "069ffefa",
   "metadata": {},
   "source": [
    "# Load Data"
   ]
  },
  {
   "cell_type": "code",
   "execution_count": null,
   "id": "f6a44325",
   "metadata": {},
   "outputs": [],
   "source": [
    "datadict_df = pd.read_csv(DATADICT_PATH,quotechar='\"',escapechar='\\\\')\n",
    "# There are two BMI fields with the same name. One is measured by impedance though (instead of the standard way) and thus gets a different name\n",
    "datadict_df.loc[datadict_df['FieldID']==23104,'Field']='Body mass index (BMI) Impedance'"
   ]
  },
  {
   "cell_type": "markdown",
   "id": "5329d8d8",
   "metadata": {},
   "source": [
    "Define dtypes of the columns for faster reading and better object types"
   ]
  },
  {
   "cell_type": "code",
   "execution_count": null,
   "id": "4d6eda83",
   "metadata": {},
   "outputs": [],
   "source": [
    "# Need to use pandas Int64 to represent integers because missing values are floats normally in pandas\n",
    "datatype_dict = {'Integer':\"Int64\", 'Categorical single':object, 'Date':str, 'Text':str, 'Continuous':float,\n",
    "       'Time':str, 'Compound':object, 'Categorical multiple':object}\n",
    "\n",
    "dtype = {}\n",
    "dates = []\n",
    "for indx, row in datadict_df.iterrows():\n",
    "    baseID = row['FieldID']\n",
    "    instances = row['Instances']\n",
    "    array = row['Array']\n",
    "    for instance in range(instances):\n",
    "        for arr in range(array):\n",
    "            ID = '{}-{}.{}'.format(baseID,instance,arr)\n",
    "            value_type = row['ValueType']\n",
    "            if value_type == 'Time' or value_type == 'Date':\n",
    "                dates.append(ID)\n",
    "            dt = datatype_dict[value_type]\n",
    "            if baseID==46:\n",
    "                dt = float\n",
    "            dtype[ID] = dt"
   ]
  },
  {
   "cell_type": "code",
   "execution_count": null,
   "id": "e8f5d618",
   "metadata": {},
   "outputs": [],
   "source": [
    "def read_csv(filename):\n",
    "        return pd.read_csv(filename,header=None)\n",
    "\n",
    "def multithread_read(glob_str: str) -> pd.DataFrame:\n",
    "        files = glob(glob_str)\n",
    "        files.sort()\n",
    "        print(files)\n",
    "        threads = len(files)\n",
    "        with mp.Pool(processes=threads) as pool:\n",
    "                df_list = pool.map(read_csv,files)\n",
    "        final_frame = pd.concat(df_list,ignore_index=True)\n",
    "                \n",
    "        print (f\"There are {len(final_frame)} rows of data\")\n",
    "        return final_frame"
   ]
  },
  {
   "cell_type": "code",
   "execution_count": null,
   "id": "538fcaf8",
   "metadata": {},
   "outputs": [],
   "source": [
    "if SAVE:\n",
    "    data_df = multithread_read(glob_str=RAW_DATA_PATH+'/split/ukb668815_*.csv')\n",
    "    with open(DATA_PATH,'r') as f:\n",
    "        header_line = f.readline().rstrip()\n",
    "    header = header_line.split(',')\n",
    "    header = [h[1:-1] for h in header] # Remove quotes\n",
    "    data_df.columns = header\n",
    "    #data_df = pd.read_csv(DATA_PATH, dtype=dtype)\n",
    "else:\n",
    "    # Only load relevant cardiac features\n",
    "    data_df = pd.read_csv(CARDIAC_PATIENTS_PATH,dtype=dtype)"
   ]
  },
  {
   "cell_type": "code",
   "execution_count": null,
   "id": "222824e1",
   "metadata": {},
   "outputs": [],
   "source": [
    "rename(data_df=data_df, datadict_df=datadict_df)"
   ]
  },
  {
   "cell_type": "markdown",
   "id": "89860f93-54b0-4449-b2de-2fc422dce2f5",
   "metadata": {},
   "source": [
    "# Dataset Management"
   ]
  },
  {
   "cell_type": "markdown",
   "id": "7be80e28",
   "metadata": {},
   "source": [
    "## Cardiac Features"
   ]
  },
  {
   "cell_type": "markdown",
   "id": "89404533",
   "metadata": {},
   "source": [
    "0=Initial visit. 1=Followup. 2=Imaging. 3=Imaging followup.\n",
    "\n",
    "Most important and the one that will be used downstream is 2 as it coincides with images. If 2 is not populated for a patient, initial visit (0) will be used.\n",
    "\n",
    "Many numeric fields have some faulty entries. Invalid data is coerced to NA."
   ]
  },
  {
   "cell_type": "code",
   "execution_count": null,
   "id": "b2e19291",
   "metadata": {},
   "outputs": [],
   "source": [
    "data_df_coverage = data_df.notna().sum()/len(data_df)*100\n",
    "data_df_coverage"
   ]
  },
  {
   "cell_type": "markdown",
   "id": "ef4f3ac9",
   "metadata": {},
   "source": [
    "### Alcohol Intake Frequency"
   ]
  },
  {
   "cell_type": "markdown",
   "id": "ce4193d1-0b50-4169-bb25-9c5000f04b55",
   "metadata": {},
   "source": [
    "Field 6 is never"
   ]
  },
  {
   "cell_type": "code",
   "execution_count": null,
   "id": "ebb6f696",
   "metadata": {},
   "outputs": [],
   "source": [
    "field_id = 'Alcohol intake frequency.-2.0'\n",
    "data_df[field_id] = pd.to_numeric(data_df[field_id],errors='coerce')\n",
    "plot_hist(data_df=data_df, field_id=field_id)"
   ]
  },
  {
   "cell_type": "markdown",
   "id": "8b3f6df1",
   "metadata": {},
   "source": [
    "-3 is \"Prefer not to answer\". Replace with NA"
   ]
  },
  {
   "cell_type": "code",
   "execution_count": null,
   "id": "37d523ab",
   "metadata": {},
   "outputs": [],
   "source": [
    "data_df.loc[data_df[field_id]==-3, field_id] = pd.NA"
   ]
  },
  {
   "cell_type": "code",
   "execution_count": null,
   "id": "1121f2f5",
   "metadata": {},
   "outputs": [],
   "source": [
    "plot_hist(data_df=data_df, field_id=field_id)"
   ]
  },
  {
   "cell_type": "markdown",
   "id": "aeca2537",
   "metadata": {},
   "source": [
    "### Pulse Wave Arterial Stiffness Index"
   ]
  },
  {
   "cell_type": "code",
   "execution_count": null,
   "id": "cce2192b",
   "metadata": {},
   "outputs": [],
   "source": [
    "field_id = 'Pulse wave Arterial Stiffness index-2.0'\n",
    "plot_hist(data_df=data_df, field_id=field_id)"
   ]
  },
  {
   "cell_type": "code",
   "execution_count": null,
   "id": "626155f9",
   "metadata": {
    "scrolled": true
   },
   "outputs": [],
   "source": [
    "vals = grab_sorted_values(data_df=data_df, field_id=field_id)\n",
    "print(vals[:10])"
   ]
  },
  {
   "cell_type": "code",
   "execution_count": null,
   "id": "c83473fd",
   "metadata": {},
   "outputs": [],
   "source": [
    "remove_outliers(data_df=data_df, field_id=field_id, limit=50, greater=True)"
   ]
  },
  {
   "cell_type": "code",
   "execution_count": null,
   "id": "c8cdff30",
   "metadata": {},
   "outputs": [],
   "source": [
    "plot_hist(data_df=data_df, field_id=field_id)"
   ]
  },
  {
   "cell_type": "markdown",
   "id": "fcb84375",
   "metadata": {},
   "source": [
    "### Sex"
   ]
  },
  {
   "cell_type": "code",
   "execution_count": null,
   "id": "8ba20421",
   "metadata": {},
   "outputs": [],
   "source": [
    "field_id = 'Sex-0.0'\n",
    "data_df[field_id] = pd.to_numeric(data_df[field_id],errors='coerce')\n",
    "plot_hist(data_df=data_df, field_id=field_id)"
   ]
  },
  {
   "cell_type": "markdown",
   "id": "b0f9630a",
   "metadata": {},
   "source": [
    "### Age"
   ]
  },
  {
   "cell_type": "code",
   "execution_count": null,
   "id": "189eeb3c",
   "metadata": {},
   "outputs": [],
   "source": [
    "field_id = 'Age when attended assessment centre-2.0'\n",
    "plot_hist(data_df=data_df, field_id=field_id)"
   ]
  },
  {
   "cell_type": "code",
   "execution_count": null,
   "id": "654e0566",
   "metadata": {},
   "outputs": [],
   "source": [
    "# Check differences between imaging and initial visit.\n",
    "plt.hist(data_df['Age when attended assessment centre-2.0']-data_df['Age when attended assessment centre-0.0'])"
   ]
  },
  {
   "cell_type": "markdown",
   "id": "fcb923e4",
   "metadata": {},
   "source": [
    "Most seem to have come between 7 and 12 years after initial visit. A lot can change in this time frame so try to avoid stats gathered at initial visit"
   ]
  },
  {
   "cell_type": "markdown",
   "id": "c77a2bd0",
   "metadata": {},
   "source": [
    "### Systolic Blood Pressure - Manual Reading"
   ]
  },
  {
   "cell_type": "markdown",
   "id": "a42b46dc",
   "metadata": {},
   "source": [
    "Two blood pressure readings are taken moments apart so each visit's value is averaged to one number before further processing\n",
    "\n",
    "Blood pressure is very moment specific and thus only the imaging visit values are taken. Additional analysis on historical values (initial assessment) is left for the future."
   ]
  },
  {
   "cell_type": "code",
   "execution_count": null,
   "id": "22da957c",
   "metadata": {},
   "outputs": [],
   "source": [
    "field_id = 'Systolic blood pressure, manual reading-2.0'\n",
    "data_df[field_id] = pd.to_numeric(data_df[field_id],errors='coerce')\n",
    "calc_and_save_mean(data_df=data_df, field_id=field_id)\n",
    "field_id = 'Systolic blood pressure, manual reading-2.mean'\n",
    "plot_hist(data_df=data_df, field_id=field_id)"
   ]
  },
  {
   "cell_type": "code",
   "execution_count": null,
   "id": "cc67f732-af62-463b-b66a-231fb84002f4",
   "metadata": {},
   "outputs": [],
   "source": [
    "# Examine coverage of multiple readings across subjects\n",
    "field_ids = ['Systolic blood pressure, manual reading-2.0']\n",
    "_ = check_coverage(data_df=data_df, field_ids=field_ids)\n",
    "field_ids = ['Systolic blood pressure, manual reading-2.1']\n",
    "_ = check_coverage(data_df=data_df, field_ids=field_ids)\n",
    "field_ids = ['Systolic blood pressure, manual reading-2.0','Systolic blood pressure, manual reading-2.1']\n",
    "_ = check_coverage(data_df=data_df, field_ids=field_ids)\n",
    "field_ids = ['Systolic blood pressure, manual reading-2.mean']\n",
    "_ = check_coverage(data_df=data_df, field_ids=field_ids)"
   ]
  },
  {
   "cell_type": "code",
   "execution_count": null,
   "id": "a5b51a2a-1a68-4b42-a002-9a019e2099c5",
   "metadata": {},
   "outputs": [],
   "source": [
    "# Check differences in mean bp between initial visit and imaging visit. Could be interesting to use this and/or initial visit at later time as additional indication of health over life. Maybe with weighting by time between initial and imaging\n",
    "field_id = 'Systolic blood pressure, manual reading-0.0'\n",
    "data_df[field_id] = pd.to_numeric(data_df[field_id],errors='coerce')\n",
    "field_id = 'Systolic blood pressure, manual reading-0.0'\n",
    "calc_and_save_mean(data_df=data_df, field_id=field_id)\n",
    "field_ids = ['Systolic blood pressure, manual reading-0.0','Systolic blood pressure, manual reading-0.1','Systolic blood pressure, manual reading-2.0','Systolic blood pressure, manual reading-2.1','Systolic blood pressure, manual reading-0.mean','Systolic blood pressure, manual reading-2.mean']\n",
    "common_ids = check_coverage(data_df=data_df, field_ids=field_ids)\n",
    "sys_bp_df = data_df[common_ids][field_ids]\n",
    "sys_bp_df['dif_visit_means'] = sys_bp_df.apply(lambda row: row['Systolic blood pressure, manual reading-2.mean']-row['Systolic blood pressure, manual reading-0.mean'],axis=1)\n",
    "sys_bp_df['dif_visit_means']\n",
    "plot_hist(data_df=sys_bp_df,field_id='dif_visit_means')"
   ]
  },
  {
   "cell_type": "markdown",
   "id": "fd90a0e7",
   "metadata": {},
   "source": [
    "### Diastolic Blood Pressure - Manual Reading"
   ]
  },
  {
   "cell_type": "code",
   "execution_count": null,
   "id": "fb9b6d04",
   "metadata": {},
   "outputs": [],
   "source": [
    "field_id = 'Diastolic blood pressure, manual reading-2.0'\n",
    "data_df[field_id] = pd.to_numeric(data_df[field_id],errors='coerce')\n",
    "calc_and_save_mean(data_df=data_df, field_id=field_id)\n",
    "field_id = 'Diastolic blood pressure, manual reading-2.mean'\n",
    "plot_hist(data_df=data_df, field_id=field_id)"
   ]
  },
  {
   "cell_type": "markdown",
   "id": "aabb912f-b861-49d5-b921-f07526df33a2",
   "metadata": {},
   "source": [
    "### Pulse Rate (during bp measurement)"
   ]
  },
  {
   "cell_type": "code",
   "execution_count": null,
   "id": "1046232e-0eb6-413e-a51f-45bb2999e41e",
   "metadata": {},
   "outputs": [],
   "source": [
    "field_id = 'Pulse rate (during blood-pressure measurement)-2.0'\n",
    "data_df[field_id] = pd.to_numeric(data_df[field_id],errors='coerce')\n",
    "calc_and_save_mean(data_df=data_df, field_id=field_id)\n",
    "field_id = 'Pulse rate (during blood-pressure measurement)-2.mean'\n",
    "plot_hist(data_df=data_df, field_id=field_id)"
   ]
  },
  {
   "cell_type": "markdown",
   "id": "26cbe2c3",
   "metadata": {},
   "source": [
    "### Pulse Rate, automated reading"
   ]
  },
  {
   "cell_type": "code",
   "execution_count": null,
   "id": "b0196dfd",
   "metadata": {},
   "outputs": [],
   "source": [
    "field_id = 'Pulse rate, automated reading-2.0'\n",
    "data_df[field_id] = pd.to_numeric(data_df[field_id],errors='coerce')\n",
    "calc_and_save_mean(data_df=data_df, field_id=field_id)\n",
    "field_id = 'Pulse rate, automated reading-2.mean'\n",
    "plot_hist(data_df=data_df, field_id=field_id)"
   ]
  },
  {
   "cell_type": "markdown",
   "id": "e91d2e8e",
   "metadata": {},
   "source": [
    "### Diastolic Blood Pressure - Automated Reading"
   ]
  },
  {
   "cell_type": "code",
   "execution_count": null,
   "id": "2c3442e8",
   "metadata": {},
   "outputs": [],
   "source": [
    "field_id = 'Diastolic blood pressure, automated reading-2.0'\n",
    "data_df[field_id] = pd.to_numeric(data_df[field_id],errors='coerce')\n",
    "calc_and_save_mean(data_df=data_df, field_id=field_id)\n",
    "field_id = 'Diastolic blood pressure, automated reading-2.mean'\n",
    "plot_hist(data_df=data_df, field_id=field_id)"
   ]
  },
  {
   "cell_type": "markdown",
   "id": "591d5e43",
   "metadata": {},
   "source": [
    "### Systolic Blood Pressure - Automated Reading"
   ]
  },
  {
   "cell_type": "code",
   "execution_count": null,
   "id": "4e5b3416",
   "metadata": {},
   "outputs": [],
   "source": [
    "field_id = 'Systolic blood pressure, automated reading-2.0'\n",
    "data_df[field_id] = pd.to_numeric(data_df[field_id],errors='coerce')\n",
    "plot_hist(data_df=data_df, field_id=field_id)\n",
    "vals = grab_sorted_values(data_df=data_df, field_id=field_id)\n",
    "print(vals[:200])"
   ]
  },
  {
   "cell_type": "code",
   "execution_count": null,
   "id": "fab155cb-93e7-461b-a7e6-25e30e6a975c",
   "metadata": {},
   "outputs": [],
   "source": [
    "remove_outliers(data_df=data_df, field_id=field_id, limit=500, greater=True)\n",
    "plot_hist(data_df=data_df, field_id=field_id)"
   ]
  },
  {
   "cell_type": "code",
   "execution_count": null,
   "id": "6389be34-6b70-4058-9a07-303bf92ece66",
   "metadata": {},
   "outputs": [],
   "source": [
    "calc_and_save_mean(data_df=data_df, field_id=field_id)\n",
    "field_id = 'Systolic blood pressure, automated reading-2.mean'\n",
    "plot_hist(data_df=data_df, field_id=field_id)"
   ]
  },
  {
   "cell_type": "markdown",
   "id": "6c4acb36",
   "metadata": {},
   "source": [
    "Check relationship between automated and manual readings. Should only use one in final vector"
   ]
  },
  {
   "cell_type": "code",
   "execution_count": null,
   "id": "2d4128d2-6302-46c6-bfdd-f3697f7ad1e6",
   "metadata": {},
   "outputs": [],
   "source": [
    "# Systolic\n",
    "field_id_manual = 'Systolic blood pressure, manual reading-2.0'\n",
    "field_id_auto = 'Systolic blood pressure, automated reading-2.0'\n",
    "field_ids=[field_id_manual,field_id_auto]\n",
    "field_id_indices = check_coverage(data_df=data_df, field_ids=field_ids)\n",
    "_ = check_coverage(data_df=data_df, field_ids=[field_id_manual])\n",
    "_ = check_coverage(data_df=data_df, field_ids=[field_id_auto])"
   ]
  },
  {
   "cell_type": "code",
   "execution_count": null,
   "id": "05807c38-da94-4191-8e64-ce07ca4caa07",
   "metadata": {},
   "outputs": [],
   "source": [
    "field_id_manual = 'Systolic blood pressure, manual reading-2.mean'\n",
    "field_id_auto = 'Systolic blood pressure, automated reading-2.mean'\n",
    "field_ids=[field_id_manual,field_id_auto]\n",
    "field_id_indices = check_coverage(data_df=data_df, field_ids=field_ids)\n",
    "_ = check_coverage(data_df=data_df, field_ids=[field_id_manual])\n",
    "_ = check_coverage(data_df=data_df, field_ids=[field_id_auto])"
   ]
  },
  {
   "cell_type": "code",
   "execution_count": null,
   "id": "088daf15",
   "metadata": {},
   "outputs": [],
   "source": [
    "field_id_manual = 'Systolic blood pressure, manual reading-2.mean'\n",
    "field_id_auto = 'Systolic blood pressure, automated reading-2.mean'\n",
    "systolic_bp_df = data_df[~data_df[field_id_manual].isna() & ~data_df[field_id_auto].isna()][[field_id_manual, field_id_auto]]\n",
    "dif_id = 'systolic bp auto - manual'\n",
    "systolic_bp_df[dif_id] = systolic_bp_df.apply(lambda row: row[field_id_auto]-row[field_id_manual],axis=1)\n",
    "plot_hist(data_df=systolic_bp_df,field_id=dif_id)"
   ]
  },
  {
   "cell_type": "markdown",
   "id": "270f6515-d8c0-40e2-8044-2a18c4827043",
   "metadata": {},
   "source": [
    "There is no overlap between manual and auto for a specific reading, but it could be that for the first reading a manual value was entered and for the second an automatic value (or vice-versa). This leads there to be some subjects that have a mean manual reading as well as a mean automatic reading. Since these were taken at two different time points we treat them as the same modality and just take the mean of the two"
   ]
  },
  {
   "cell_type": "markdown",
   "id": "f70dc9ec-262a-4a26-bb8e-35cec4af2cdd",
   "metadata": {},
   "source": [
    "### Combine manual and automatic"
   ]
  },
  {
   "cell_type": "code",
   "execution_count": null,
   "id": "57372345-7b3c-4741-b87b-bf6d6796412e",
   "metadata": {},
   "outputs": [],
   "source": [
    "# Systolic\n",
    "field_id_manual = 'Systolic blood pressure, manual reading-2.mean'\n",
    "field_id_auto = 'Systolic blood pressure, automated reading-2.mean'\n",
    "field_id = 'Systolic blood pressure-2.mean'\n",
    "data_df[field_id] = data_df[[field_id_manual,field_id_auto]].mean(axis=1)\n",
    "_ = check_coverage(data_df=data_df, field_ids=[field_id])"
   ]
  },
  {
   "cell_type": "code",
   "execution_count": null,
   "id": "c45238ba",
   "metadata": {},
   "outputs": [],
   "source": [
    "# Diastolic\n",
    "field_id_manual = 'Diastolic blood pressure, manual reading-2.mean'\n",
    "field_id_auto = 'Diastolic blood pressure, automated reading-2.mean'\n",
    "field_id = 'Diastolic blood pressure-2.mean'\n",
    "data_df[field_id] = data_df[[field_id_manual,field_id_auto]].mean(axis=1)\n",
    "_ = check_coverage(data_df=data_df, field_ids=[field_id])"
   ]
  },
  {
   "cell_type": "code",
   "execution_count": null,
   "id": "a877160a-a8e3-4726-a018-a2c3bfdb9585",
   "metadata": {},
   "outputs": [],
   "source": [
    "# Pulse rate\n",
    "field_id_manual = 'Pulse rate (during blood-pressure measurement)-2.mean'\n",
    "field_id_auto = 'Pulse rate, automated reading-2.mean'\n",
    "field_id = 'Pulse rate-2.mean'\n",
    "data_df[field_id] = data_df[[field_id_manual,field_id_auto]].mean(axis=1)\n",
    "_ = check_coverage(data_df=data_df, field_ids=[field_id])"
   ]
  },
  {
   "cell_type": "markdown",
   "id": "463481db",
   "metadata": {},
   "source": [
    "### Body Fat Percentage"
   ]
  },
  {
   "cell_type": "code",
   "execution_count": null,
   "id": "459a16dd",
   "metadata": {},
   "outputs": [],
   "source": [
    "field_id = 'Body fat percentage-2.0'\n",
    "data_df[field_id] = pd.to_numeric(data_df[field_id],errors='coerce')\n",
    "plot_hist(data_df=data_df, field_id=field_id)"
   ]
  },
  {
   "cell_type": "markdown",
   "id": "07adf0a9",
   "metadata": {},
   "source": [
    "### Whole Body Fat Mass"
   ]
  },
  {
   "cell_type": "code",
   "execution_count": null,
   "id": "816da320",
   "metadata": {},
   "outputs": [],
   "source": [
    "field_id = 'Whole body fat mass-2.0'\n",
    "data_df[field_id] = pd.to_numeric(data_df[field_id],errors='coerce')\n",
    "plot_hist(data_df=data_df, field_id=field_id)"
   ]
  },
  {
   "cell_type": "markdown",
   "id": "01215f2d",
   "metadata": {},
   "source": [
    "### Whole Body Fat-free Mass"
   ]
  },
  {
   "cell_type": "code",
   "execution_count": null,
   "id": "eb44c3b7",
   "metadata": {},
   "outputs": [],
   "source": [
    "field_id = 'Whole body fat-free mass-2.0'\n",
    "data_df[field_id] = pd.to_numeric(data_df[field_id],errors='coerce')\n",
    "plot_hist(data_df=data_df, field_id=field_id)"
   ]
  },
  {
   "cell_type": "markdown",
   "id": "1956581f",
   "metadata": {},
   "source": [
    "### Whole Body Water Mass"
   ]
  },
  {
   "cell_type": "code",
   "execution_count": null,
   "id": "c2c42745",
   "metadata": {},
   "outputs": [],
   "source": [
    "field_id = 'Whole body water mass-2.0'\n",
    "data_df[field_id] = pd.to_numeric(data_df[field_id],errors='coerce')\n",
    "plot_hist(data_df=data_df, field_id=field_id)"
   ]
  },
  {
   "cell_type": "markdown",
   "id": "b25ae62e",
   "metadata": {},
   "source": [
    "### Body mass index (BMI)"
   ]
  },
  {
   "cell_type": "code",
   "execution_count": null,
   "id": "ea27ba2b",
   "metadata": {},
   "outputs": [],
   "source": [
    "field_id = 'Body mass index (BMI)-2.0'\n",
    "data_df[field_id] = pd.to_numeric(data_df[field_id],errors='coerce')\n",
    "plot_hist(data_df=data_df,field_id=field_id)"
   ]
  },
  {
   "cell_type": "markdown",
   "id": "1a1a9c2b",
   "metadata": {},
   "source": [
    "### Processed Meat Intake"
   ]
  },
  {
   "cell_type": "markdown",
   "id": "178ea2df",
   "metadata": {},
   "source": [
    "-1\tDo not know\n",
    "\n",
    "-3\tPrefer not to answer"
   ]
  },
  {
   "cell_type": "code",
   "execution_count": null,
   "id": "11f60db6",
   "metadata": {},
   "outputs": [],
   "source": [
    "field_id = 'Processed meat intake-2.0'\n",
    "data_df[field_id] = pd.to_numeric(data_df[field_id],errors='coerce')\n",
    "data_df.loc[data_df[field_id]==-3, field_id] = pd.NA\n",
    "data_df.loc[data_df[field_id]==-1, field_id] = pd.NA\n",
    "plot_hist(data_df=data_df,field_id=field_id)"
   ]
  },
  {
   "cell_type": "markdown",
   "id": "4a64b8e8",
   "metadata": {},
   "source": [
    "### Beef Intake"
   ]
  },
  {
   "cell_type": "code",
   "execution_count": null,
   "id": "730a89f8",
   "metadata": {},
   "outputs": [],
   "source": [
    "field_id = 'Beef intake-2.0'\n",
    "data_df[field_id] = pd.to_numeric(data_df[field_id],errors='coerce')\n",
    "data_df.loc[data_df[field_id]==-3, field_id] = pd.NA\n",
    "data_df.loc[data_df[field_id]==-1, field_id] = pd.NA\n",
    "plot_hist(data_df=data_df,field_id=field_id)"
   ]
  },
  {
   "cell_type": "markdown",
   "id": "dfcedded",
   "metadata": {},
   "source": [
    "### Pork Intake"
   ]
  },
  {
   "cell_type": "code",
   "execution_count": null,
   "id": "4bea6b72",
   "metadata": {},
   "outputs": [],
   "source": [
    "field_id = 'Pork intake-2.0'\n",
    "data_df[field_id] = pd.to_numeric(data_df[field_id],errors='coerce')\n",
    "data_df.loc[data_df[field_id]==-3, field_id] = pd.NA\n",
    "data_df.loc[data_df[field_id]==-1, field_id] = pd.NA\n",
    "plot_hist(data_df=data_df, field_id=field_id)"
   ]
  },
  {
   "cell_type": "markdown",
   "id": "b1ab70d1",
   "metadata": {},
   "source": [
    "### Lamb/mutton intake"
   ]
  },
  {
   "cell_type": "code",
   "execution_count": null,
   "id": "b69d6efd",
   "metadata": {},
   "outputs": [],
   "source": [
    "field_id = 'Lamb/mutton intake-2.0'\n",
    "data_df[field_id] = pd.to_numeric(data_df[field_id],errors='coerce')\n",
    "data_df.loc[data_df[field_id]==-3, field_id] = pd.NA\n",
    "data_df.loc[data_df[field_id]==-1, field_id] = pd.NA\n",
    "plot_hist(data_df=data_df, field_id=field_id)"
   ]
  },
  {
   "cell_type": "code",
   "execution_count": null,
   "id": "0bd1de62",
   "metadata": {},
   "outputs": [],
   "source": [
    "field_id = 'Cooked vegetable intake-2.0'\n",
    "data_df[field_id] = pd.to_numeric(data_df[field_id],errors='coerce')\n",
    "data_df.loc[data_df[field_id]==-3, field_id] = pd.NA\n",
    "data_df.loc[data_df[field_id]==-1, field_id] = pd.NA\n",
    "data_df.loc[data_df[field_id]==-1, field_id] = pd.NA\n",
    "data_df.loc[data_df[field_id]==-10, field_id] = 0 # -10 is less than one so gets set to 0\n",
    "plot_hist(data_df=data_df, field_id=field_id)"
   ]
  },
  {
   "cell_type": "code",
   "execution_count": null,
   "id": "8a97f725",
   "metadata": {},
   "outputs": [],
   "source": [
    "field_id = 'Salad / raw vegetable intake-2.0'\n",
    "data_df[field_id] = pd.to_numeric(data_df[field_id],errors='coerce')\n",
    "data_df.loc[data_df[field_id]==-3, field_id] = pd.NA\n",
    "data_df.loc[data_df[field_id]==-1, field_id] = pd.NA\n",
    "data_df.loc[data_df[field_id]==-10, field_id] = 0 # -10 is less than one so gets set to 0\n",
    "plot_hist(data_df=data_df, field_id=field_id)"
   ]
  },
  {
   "cell_type": "markdown",
   "id": "cf7e4d16",
   "metadata": {},
   "source": [
    "### Ethnic Background"
   ]
  },
  {
   "cell_type": "markdown",
   "id": "96a91a03-102c-42ae-be65-c06db2096f9b",
   "metadata": {},
   "source": [
    "Should ensure only 1000 (caucasian) is included to prevent ethnic confounders"
   ]
  },
  {
   "cell_type": "code",
   "execution_count": null,
   "id": "ddadf568",
   "metadata": {},
   "outputs": [],
   "source": [
    "field_id = 'Ethnic background-0.0'\n",
    "data_df[field_id] = pd.to_numeric(data_df[field_id],errors='coerce')\n",
    "plot_hist(data_df=data_df,field_id=field_id)"
   ]
  },
  {
   "cell_type": "markdown",
   "id": "2c54356b",
   "metadata": {},
   "source": [
    "### Overall Health Rating"
   ]
  },
  {
   "cell_type": "markdown",
   "id": "e567e924-e1ee-4c1f-991f-310ccbc0b3bb",
   "metadata": {},
   "source": [
    "Self reported"
   ]
  },
  {
   "cell_type": "code",
   "execution_count": null,
   "id": "593b1094",
   "metadata": {},
   "outputs": [],
   "source": [
    "field_id = 'Overall health rating-2.0'\n",
    "data_df[field_id] = pd.to_numeric(data_df[field_id],errors='coerce')\n",
    "data_df.loc[data_df[field_id]==-1, field_id] = pd.NA\n",
    "data_df.loc[data_df[field_id]==-3, field_id] = pd.NA\n",
    "plot_hist(data_df=data_df, field_id=field_id)"
   ]
  },
  {
   "cell_type": "markdown",
   "id": "dacaf95c-d2b5-4bc1-b9e8-521f58b2eb4b",
   "metadata": {},
   "source": [
    "### Diabetes diagnosed by doctor"
   ]
  },
  {
   "cell_type": "code",
   "execution_count": null,
   "id": "810d0361-29ef-4d36-ad52-21a8edeb1ca9",
   "metadata": {},
   "outputs": [],
   "source": [
    "field_name = 'Diabetes diagnosed by doctor'\n",
    "instance_array_size = 4\n",
    "option_array_size = 1\n",
    "answer = 1\n",
    "\n",
    "diabetes_diagnosed = check_answer(data_df, answer, field_name, instance_array_size, option_array_size)\n",
    "print(f'{sum(diabetes_diagnosed)} subjects indicated diabetes diagnosis by doctor')\n",
    "data_df['Diabetes diagnosis'] = diabetes_diagnosed"
   ]
  },
  {
   "cell_type": "code",
   "execution_count": null,
   "id": "f12736ba-89b1-484f-b73c-6bfe775f1d00",
   "metadata": {},
   "outputs": [],
   "source": [
    "# Check if we have an age for a diagnosis\n",
    "field_name = 'Age diabetes diagnosed'\n",
    "for i in range(4):\n",
    "    field_id = f'{field_name}-{i}.0'\n",
    "    update_through_age(data_df, field_id, 'Diabetes diagnosis')\n",
    "print(f'{data_df[\"Diabetes diagnosis\"].sum()} subjects indicated diabetes diagnosis by doctor or age for diagnosis')"
   ]
  },
  {
   "cell_type": "code",
   "execution_count": null,
   "id": "82e2651d-6de9-4b73-b012-a1afd2d9195b",
   "metadata": {},
   "outputs": [],
   "source": [
    "print(data_df['Diabetes diagnosis'].sum())\n",
    "print(data_df['Diabetes diagnosis'].sum()/len(data_df))"
   ]
  },
  {
   "cell_type": "markdown",
   "id": "7b7a4cb2-f321-4c5a-9142-398e39a976cb",
   "metadata": {},
   "source": [
    "Check if diabetes medication is being taken further down"
   ]
  },
  {
   "cell_type": "markdown",
   "id": "f121c880",
   "metadata": {},
   "source": [
    "### Vascular/heart problems diagnosed by doctor"
   ]
  },
  {
   "cell_type": "markdown",
   "id": "bd39a335",
   "metadata": {},
   "source": [
    "If code -7 (None of the above) was selected, then no additional choices were allowed. -> 0\n",
    "\n",
    "If code -3 (Prefer not to answer) was selected, then no additional choices were allowed. -> pd.NA\n",
    "\n",
    "These were both set to 0 corresponding to \"None of the above\" option\n",
    "\n",
    "Here all visits are examined as the questions concerns any diagnosis in their history. A diagnosis specified in future visits is added to list of previous visits. Each field is also saved as an array of size 4 since multiple choices were allowed. These are converted into four new columns. For some reason only three visits are recorded here (repeat imaging not included)"
   ]
  },
  {
   "cell_type": "code",
   "execution_count": null,
   "id": "b073e1e3",
   "metadata": {
    "tags": []
   },
   "outputs": [],
   "source": [
    "field_name = 'Vascular/heart problems diagnosed by doctor'\n",
    "instance_array_size=3\n",
    "option_array_size=4\n",
    "\n",
    "for i in range(instance_array_size):\n",
    "    for j in range(option_array_size):\n",
    "        field_id = f'{field_name}-{i}.{j}'\n",
    "        data_df[field_id] = pd.to_numeric(data_df[field_id],errors='coerce')\n",
    "        data_df.loc[data_df[field_id]==-3, field_id] = pd.NA\n",
    "        data_df.loc[data_df[field_id]==-7, field_id] = 0\n",
    "        \n",
    "# Should only cosider up to imaging visit as an occurrence after imaging could represent a different biological state\n",
    "data_df['Heart attack diagnosed by doctor'] = check_answer(data_df=data_df, answer=1, field_name=field_name, instance_array_size=instance_array_size, option_array_size=option_array_size)\n",
    "data_df['Angina diagnosed by doctor'] = check_answer(data_df=data_df, answer=2, field_name=field_name, instance_array_size=instance_array_size, option_array_size=option_array_size)\n",
    "data_df['Stroke diagnosed by doctor'] = check_answer(data_df=data_df, answer=3, field_name=field_name, instance_array_size=instance_array_size, option_array_size=option_array_size)\n",
    "data_df['High blood pressure diagnosed by doctor'] = check_answer(data_df=data_df, answer=4, field_name=field_name, instance_array_size=instance_array_size, option_array_size=option_array_size)"
   ]
  },
  {
   "cell_type": "code",
   "execution_count": null,
   "id": "bf46ec21-6c43-47e5-9728-5d294ff2fc4e",
   "metadata": {},
   "outputs": [],
   "source": [
    "field_id = f'Vascular/heart problems diagnosed by doctor-2.0'\n",
    "plot_hist(data_df=data_df, field_id=field_id)"
   ]
  },
  {
   "cell_type": "code",
   "execution_count": null,
   "id": "f86c2709-bde6-48be-aff4-6937d153ee89",
   "metadata": {},
   "outputs": [],
   "source": [
    "_ = sns.barplot(x=['Heart attack', 'Angina', 'Stroke', 'High blood pressure'], y=[sum(data_df['Heart attack diagnosed by doctor']), sum(data_df['Angina diagnosed by doctor']), sum(data_df['Stroke diagnosed by doctor']), sum(data_df['High blood pressure diagnosed by doctor'])])"
   ]
  },
  {
   "cell_type": "markdown",
   "id": "ff82f746",
   "metadata": {},
   "source": [
    "### Age heart attack diagnosed"
   ]
  },
  {
   "cell_type": "markdown",
   "id": "641e91da",
   "metadata": {},
   "source": [
    "Should only be filled for people that indicated heart attack in 6150\n",
    "\n",
    "-1 represents \"Do not know\"\n",
    "\n",
    "-3 represents \"Prefer not to answer\""
   ]
  },
  {
   "cell_type": "markdown",
   "id": "b25c5eee-7ebf-4ddb-8c2c-be8adf397eba",
   "metadata": {},
   "source": [
    "**TODO: -1 is a perfectly valid answer and shouldn't be set to NA. Maybe set to mean of distribution?**\n",
    "\n",
    "Take as valid option for ever having heart attack but remove when calculating time between image and heart attack"
   ]
  },
  {
   "cell_type": "code",
   "execution_count": null,
   "id": "15889a2f",
   "metadata": {},
   "outputs": [],
   "source": [
    "for i in range(3):\n",
    "  field_id = f'Age heart attack diagnosed-{i}.0'\n",
    "  data_df[field_id] = pd.to_numeric(data_df[field_id],errors='coerce')\n",
    "  data_df.loc[data_df[field_id]==-1, field_id] = pd.NA\n",
    "  plot_hist(data_df=data_df, field_id=field_id)"
   ]
  },
  {
   "cell_type": "markdown",
   "id": "034c49e9",
   "metadata": {},
   "source": [
    "**NOTE** Accepting dates for heart attack after imaging. Question is now: Who has such poor cardiac health that they already have had heart attack or will have one soon. Could make second field in future for just \"Future heart attack\"."
   ]
  },
  {
   "cell_type": "code",
   "execution_count": null,
   "id": "431e79b1",
   "metadata": {},
   "outputs": [],
   "source": [
    "field_id=\"Date of myocardial infarction-0.0\"\n",
    "data_df[field_id] = pd.to_datetime(data_df[field_id],errors='coerce')\n",
    "plot_hist(data_df,field_id)\n",
    "update_through_age(data_df, diag_id='Heart attack diagnosed by doctor', age_id=field_id)"
   ]
  },
  {
   "cell_type": "code",
   "execution_count": null,
   "id": "dcc6d8dd",
   "metadata": {},
   "outputs": [],
   "source": [
    "field_id=\"Date of STEMI-0.0\"\n",
    "data_df[field_id] = pd.to_datetime(data_df[field_id],errors='coerce')\n",
    "plot_hist(data_df,field_id)\n",
    "update_through_age(data_df, diag_id='Heart attack diagnosed by doctor', age_id=field_id)"
   ]
  },
  {
   "cell_type": "code",
   "execution_count": null,
   "id": "c908bac5",
   "metadata": {},
   "outputs": [],
   "source": [
    "field_id=\"Date of NSTEMI-0.0\"\n",
    "data_df[field_id] = pd.to_datetime(data_df[field_id],errors='coerce')\n",
    "plot_hist(data_df,field_id)\n",
    "update_through_age(data_df, diag_id='Heart attack diagnosed by doctor', age_id=field_id)"
   ]
  },
  {
   "cell_type": "code",
   "execution_count": null,
   "id": "0fc4ccfb",
   "metadata": {},
   "outputs": [],
   "source": [
    "_ = sns.barplot(x=['Heart attack', 'Angina', 'Stroke', 'High blood pressure'], y=[sum(data_df['Heart attack diagnosed by doctor']), sum(data_df['Angina diagnosed by doctor']), sum(data_df['Stroke diagnosed by doctor']), sum(data_df['High blood pressure diagnosed by doctor'])])"
   ]
  },
  {
   "cell_type": "markdown",
   "id": "462fe534",
   "metadata": {},
   "source": [
    "Check overlap between those that indicated heart attack in 6150 and gave a response to 3894"
   ]
  },
  {
   "cell_type": "code",
   "execution_count": null,
   "id": "d3383b07-83c6-4b48-a921-61fcca6276f8",
   "metadata": {},
   "outputs": [],
   "source": [
    "field_id_age = 'Age heart attack diagnosed-2.0'\n",
    "heart_attack_df = data_df[data_df['Heart attack diagnosed by doctor']==True]\n",
    "print(f\"{len(heart_attack_df)} subjects indicated heart attack\")\n",
    "age_heart_attack_imaging_df = data_df[check_coverage(data_df=data_df, field_ids=[field_id_age])]\n",
    "print(\"{} gave an actual age for when their heart attack was diagnosed\".format(len(heart_attack_df[(heart_attack_df['Age heart attack diagnosed-2.0']!=-3)&(heart_attack_df['Age heart attack diagnosed-2.0']!=-1)])))\n",
    "indicated_heart_attack_all_visits_df = age_heart_attack_imaging_df[(age_heart_attack_imaging_df['Heart attack diagnosed by doctor']==True)]\n",
    "no_indicated_heart_attack_all_visits_df = age_heart_attack_imaging_df[(age_heart_attack_imaging_df['Heart attack diagnosed by doctor']==False)]\n",
    "print(f\"{len(indicated_heart_attack_all_visits_df)} subjects that provided an age for their heart attack indicated that they had a heart attack in one of the three visits\")"
   ]
  },
  {
   "cell_type": "markdown",
   "id": "9d778007-f33e-4149-a386-323db6137694",
   "metadata": {},
   "source": [
    "During the imaging visit, 1134 subjects gave an age for when they had a heart attack but only 671 subjects indicated such in the required field 'Vascular/heart problems diagnosed by doctor'. "
   ]
  },
  {
   "cell_type": "markdown",
   "id": "7888ec2d-ada8-407c-adfa-ceab0214edbc",
   "metadata": {},
   "source": [
    "We can add all subjects that indicated a date for a heart attack to the diagnosed heart attack column "
   ]
  },
  {
   "cell_type": "code",
   "execution_count": null,
   "id": "ef29a32a-ad4f-44f0-8100-54d67d38d469",
   "metadata": {},
   "outputs": [],
   "source": [
    "diag_id ='Heart attack diagnosed by doctor'\n",
    "\n",
    "print(sum(data_df[diag_id]))\n",
    "for i in range(4):\n",
    "    age_id = f'Age heart attack diagnosed-{i}.0'\n",
    "    update_through_age(data_df=data_df, diag_id=diag_id, age_id=age_id)\n",
    "print(sum(data_df[diag_id]))"
   ]
  },
  {
   "cell_type": "markdown",
   "id": "c9a633c9-fd90-4b6f-a98d-0e9f2bdecba4",
   "metadata": {},
   "source": [
    "### Age high blood pressure diagnosed"
   ]
  },
  {
   "cell_type": "code",
   "execution_count": null,
   "id": "8093e962-4f23-49cb-be6a-07bc83f7e3c2",
   "metadata": {},
   "outputs": [],
   "source": [
    "for i in range(4):\n",
    "    field_id = f'Age high blood pressure diagnosed-{i}.0'\n",
    "    data_df[field_id] = pd.to_numeric(data_df[field_id],errors='coerce')\n",
    "    plot_hist(data_df=data_df, field_id=field_id)"
   ]
  },
  {
   "cell_type": "code",
   "execution_count": null,
   "id": "f15ad61c-8472-47a0-8729-5f43e11ffd46",
   "metadata": {},
   "outputs": [],
   "source": [
    "field_id_bp = 'Age high blood pressure diagnosed-2.0'\n",
    "age_bp_imaging_df = data_df[check_coverage(data_df=data_df,field_ids=[field_id_bp])]\n",
    "indicated_bp_all_visits_df = age_bp_imaging_df[(age_bp_imaging_df['High blood pressure diagnosed by doctor']==True)]\n",
    "print(f\"{len(indicated_bp_all_visits_df)} subjects that provided an age for their high bp indicated that they had high bp in one of the three visits\")"
   ]
  },
  {
   "cell_type": "markdown",
   "id": "e0798423-4023-45b0-bca0-a244cee33157",
   "metadata": {},
   "source": [
    "We can add all subjects that indicated a date for high bp to the diagnosed high bp column "
   ]
  },
  {
   "cell_type": "code",
   "execution_count": null,
   "id": "35f73e0a-e05d-43ab-8062-9700b09428c4",
   "metadata": {},
   "outputs": [],
   "source": [
    "diag_id = 'High blood pressure diagnosed by doctor'\n",
    "\n",
    "print(sum(data_df[diag_id]))\n",
    "for i in range(4):\n",
    "    age_id = f'Age high blood pressure diagnosed-{i}.0'\n",
    "    update_through_age(data_df=data_df, diag_id=diag_id, age_id=age_id)\n",
    "print(sum(data_df[diag_id]))"
   ]
  },
  {
   "cell_type": "markdown",
   "id": "bf836e4e-b4cc-4402-aa34-11cf09aac541",
   "metadata": {},
   "source": [
    "### Age angina diagnosed"
   ]
  },
  {
   "cell_type": "code",
   "execution_count": null,
   "id": "44afa676-29a3-4059-9684-58afb8915576",
   "metadata": {},
   "outputs": [],
   "source": [
    "for i in range(4):\n",
    "    field_id = f'Age angina diagnosed-{i}.0'\n",
    "    data_df[field_id] = pd.to_numeric(data_df[field_id],errors='coerce')\n",
    "    plot_hist(data_df=data_df, field_id=field_id)"
   ]
  },
  {
   "cell_type": "code",
   "execution_count": null,
   "id": "f57f46aa-c44a-423d-98d8-be878391c0ab",
   "metadata": {},
   "outputs": [],
   "source": [
    "field_id_bp = 'Age angina diagnosed-2.0'\n",
    "age_bp_imaging_df = data_df[check_coverage(data_df=data_df,field_ids=[field_id_bp])]\n",
    "indicated_bp_all_visits_df = age_bp_imaging_df[(age_bp_imaging_df['Angina diagnosed by doctor']==True)]\n",
    "print(f\"{len(indicated_bp_all_visits_df)} subjects that provided an age for their high bp indicated that they had high bp in one of the three visits\")"
   ]
  },
  {
   "cell_type": "markdown",
   "id": "ffa7548d-cd16-4a1f-b221-1198cacc34c2",
   "metadata": {},
   "source": [
    "We can add all subjects that indicated a date for high bp to the diagnosed high bp column "
   ]
  },
  {
   "cell_type": "code",
   "execution_count": null,
   "id": "8d6115ff-afb1-4fdb-b81d-a27d047bbcf0",
   "metadata": {},
   "outputs": [],
   "source": [
    "diag_id = 'Angina diagnosed by doctor'\n",
    "\n",
    "print(sum(data_df[diag_id]))\n",
    "for i in range(4):\n",
    "    age_id = f'Age angina diagnosed-{i}.0'\n",
    "    update_through_age(data_df=data_df, diag_id=diag_id, age_id=age_id)\n",
    "print(sum(data_df[diag_id]))"
   ]
  },
  {
   "cell_type": "markdown",
   "id": "cbe4e006-309c-442c-a17e-de504b92ea3d",
   "metadata": {},
   "source": [
    "### Age stroke diagnosed"
   ]
  },
  {
   "cell_type": "code",
   "execution_count": null,
   "id": "59f83626-21a4-44c9-8354-5e9149f3b24a",
   "metadata": {},
   "outputs": [],
   "source": [
    "for i in range(4):\n",
    "    field_id = f'Age stroke diagnosed-{i}.0'\n",
    "    data_df[field_id] = pd.to_numeric(data_df[field_id],errors='coerce')\n",
    "    plot_hist(data_df=data_df, field_id=field_id)"
   ]
  },
  {
   "cell_type": "code",
   "execution_count": null,
   "id": "1619e783-31c5-473d-85c8-d8e9e1ed1255",
   "metadata": {},
   "outputs": [],
   "source": [
    "field_id_bp = 'Age stroke diagnosed-2.0'\n",
    "age_bp_imaging_df = data_df[check_coverage(data_df=data_df,field_ids=[field_id_bp])]\n",
    "indicated_bp_all_visits_df = age_bp_imaging_df[(age_bp_imaging_df['Stroke diagnosed by doctor']==True)]\n",
    "print(f\"{len(indicated_bp_all_visits_df)} subjects that provided an age for their high bp indicated that they had high bp in one of the three visits\")"
   ]
  },
  {
   "cell_type": "markdown",
   "id": "a69826be-9cab-4f05-a8ad-ee5b1ea3f82e",
   "metadata": {},
   "source": [
    "We can add all subjects that indicated a date for high bp to the diagnosed high bp column "
   ]
  },
  {
   "cell_type": "code",
   "execution_count": null,
   "id": "d81c2e4a-71e0-46a2-9402-2e92f1de5b67",
   "metadata": {},
   "outputs": [],
   "source": [
    "diag_id = 'Stroke diagnosed by doctor'\n",
    "\n",
    "print(sum(data_df[diag_id]))\n",
    "for i in range(4):\n",
    "    age_id = f'Age stroke diagnosed-{i}.0'\n",
    "    update_through_age(data_df=data_df, diag_id=diag_id, age_id=age_id)\n",
    "print(sum(data_df[diag_id]))"
   ]
  },
  {
   "cell_type": "markdown",
   "id": "d1cfe57b-99de-4ff5-a0ad-0f81b1ce3bf1",
   "metadata": {},
   "source": [
    "### Medication for cholesterol, blood pressure, diabetes, or take exogenous hormones"
   ]
  },
  {
   "cell_type": "markdown",
   "id": "b3bfc7f0-9b98-4c9e-8dc3-973fbb776dda",
   "metadata": {},
   "source": [
    "Female version of field 6177 (Medication for cholesterol, blood pressure or diabetes)\n",
    "\n",
    "If code -7 (\"None of the above\") was selected, then no additional choices were allowed.    -> 0 \n",
    "\n",
    "If code -1 (\"Do not know\") was selected, then no additional choices were allowed.          -> pd.NA \n",
    "\n",
    "If code -3 (\"Prefer not to answer\") was selected, then no additional choices were allowed. -> pd.NA \n",
    "\n",
    "Array with maximum length 4 (despite there being 5 options. Apparently no one indicated all 5 at the same time)\n",
    "\n",
    "**TODO: Only consider imaging visit?**"
   ]
  },
  {
   "cell_type": "code",
   "execution_count": null,
   "id": "8c269867-9494-484d-8c21-b02d877fa6a3",
   "metadata": {},
   "outputs": [],
   "source": [
    "field_name = 'Medication for cholesterol, blood pressure, diabetes, or take exogenous hormones'\n",
    "instance_array_size=4\n",
    "option_array_size=4\n",
    "\n",
    "for i in range(instance_array_size):\n",
    "    for j in range(option_array_size):\n",
    "        field_id = f'{field_name}-{i}.{j}'\n",
    "        data_df[field_id] = pd.to_numeric(data_df[field_id],errors='coerce')\n",
    "        data_df.loc[data_df[field_id]==-1, field_id] = pd.NA\n",
    "        data_df.loc[data_df[field_id]==-3, field_id] = pd.NA\n",
    "        data_df.loc[data_df[field_id]==-7, field_id] = 0\n",
    "        \n",
    "\n",
    "data_df['Cholesterol lowering medication regularly taken'] = check_answer(data_df=data_df, answer=1, field_name=field_name, instance_array_size=instance_array_size, option_array_size=option_array_size)\n",
    "data_df['Blood pressure medication regularly taken'] = check_answer(data_df=data_df, answer=2, field_name=field_name, instance_array_size=instance_array_size, option_array_size=option_array_size)\n",
    "data_df['Insulin medication regularly taken'] = check_answer(data_df=data_df, answer=3, field_name=field_name, instance_array_size=instance_array_size, option_array_size=option_array_size)\n",
    "data_df['Hormone replacement therapy medication regularly taken'] = check_answer(data_df=data_df, answer=4, field_name=field_name, instance_array_size=instance_array_size, option_array_size=option_array_size)\n",
    "data_df['Oral contraceptive pill or minipill medication regularly taken'] = check_answer(data_df=data_df, answer=5, field_name=field_name, instance_array_size=instance_array_size, option_array_size=option_array_size)"
   ]
  },
  {
   "cell_type": "code",
   "execution_count": null,
   "id": "c40fa7af",
   "metadata": {},
   "outputs": [],
   "source": [
    "field_name = 'Medication for cholesterol, blood pressure, diabetes, or take exogenous hormones'\n",
    "option_array_size=4\n",
    "\n",
    "data_df['Cholesterol lowering medication regularly taken-0.0'] = check_answer_single_visit(data_df=data_df, answer=1, visit=0, field_name=field_name, option_array_size=option_array_size)\n",
    "data_df['Cholesterol lowering medication regularly taken-2.0'] = check_answer_single_visit(data_df=data_df, answer=1, visit=2, field_name=field_name, option_array_size=option_array_size)\n",
    "\n",
    "data_df['Blood pressure medication regularly taken-0.0'] = check_answer_single_visit(data_df=data_df, answer=2, visit=0, field_name=field_name, option_array_size=option_array_size)\n",
    "data_df['Blood pressure medication regularly taken-2.0'] = check_answer_single_visit(data_df=data_df, answer=2, visit=2, field_name=field_name, option_array_size=option_array_size)\n",
    "\n",
    "data_df['Insulin medication regularly taken-0.0'] = check_answer_single_visit(data_df=data_df, answer=3, visit=0, field_name=field_name, option_array_size=option_array_size)\n",
    "data_df['Insulin medication regularly taken-2.0'] = check_answer_single_visit(data_df=data_df, answer=3, visit=2, field_name=field_name, option_array_size=option_array_size)\n",
    "\n",
    "data_df['Hormone replacement therapy medication regularly taken-0.0'] = check_answer_single_visit(data_df=data_df, answer=4, visit=0, field_name=field_name, option_array_size=option_array_size)\n",
    "data_df['Hormone replacement therapy medication regularly taken-2.0'] = check_answer_single_visit(data_df=data_df, answer=4, visit=2, field_name=field_name, option_array_size=option_array_size)\n",
    "\n",
    "data_df['Oral contraceptive pill or minipill medication regularly taken-0.0'] = check_answer_single_visit(data_df=data_df, answer=5, visit=0, field_name=field_name, option_array_size=option_array_size)\n",
    "data_df['Oral contraceptive pill or minipill medication regularly taken-2.0'] = check_answer_single_visit(data_df=data_df, answer=5, visit=2, field_name=field_name, option_array_size=option_array_size)"
   ]
  },
  {
   "cell_type": "code",
   "execution_count": null,
   "id": "8cfc6a2b",
   "metadata": {},
   "outputs": [],
   "source": [
    "m2 = data_df['Blood pressure medication regularly taken-2.0']\n",
    "m0 = data_df['Blood pressure medication regularly taken-0.0']\n",
    "just_2 = np.select([~m2 & m0],[True],False)\n",
    "print(f'{just_2.sum()} subjects stoped taking blood pressure medication between the initial visit and the imaging visit')"
   ]
  },
  {
   "cell_type": "code",
   "execution_count": null,
   "id": "05037216-99cd-49a9-9842-e74e3ece570d",
   "metadata": {},
   "outputs": [],
   "source": [
    "# Update diabetes field\n",
    "diabetes_diagnosed = check_answer(data_df=data_df, answer=3, field_name=field_name, instance_array_size=instance_array_size, option_array_size=option_array_size, agnostic_field='Diabetes diagnosis')\n",
    "data_df['Diabetes diagnosis'] = diabetes_diagnosed\n",
    "print(f'{sum(diabetes_diagnosed)} subjects indicated diabetes diagnosis by doctor, age for diagnosis, or that they are taking insulin medication regularly')"
   ]
  },
  {
   "cell_type": "code",
   "execution_count": null,
   "id": "a4bc73af-21cf-4b1a-93f8-5e6212008636",
   "metadata": {},
   "outputs": [],
   "source": [
    "# Set female specific fields to NA for men\n",
    "data_df.loc[data_df['Sex-0.0']==1,'Hormone replacement therapy regularly taken'] = pd.NA\n",
    "data_df.loc[data_df['Sex-0.0']==1,'Oral contraceptive pill or minipill regularly taken'] = pd.NA"
   ]
  },
  {
   "cell_type": "code",
   "execution_count": null,
   "id": "c364d0d8-7e55-49f7-809e-704e27cb9e01",
   "metadata": {},
   "outputs": [],
   "source": [
    "field_id = f'Medication for cholesterol, blood pressure, diabetes, or take exogenous hormones-0.0'\n",
    "plot_hist(data_df=data_df, field_id=field_id)"
   ]
  },
  {
   "cell_type": "code",
   "execution_count": null,
   "id": "00426d7d-83f8-4da9-986b-b50c1734e797",
   "metadata": {},
   "outputs": [],
   "source": [
    "ax = sns.barplot(x=['Cholesterol lowering medication', 'Blood pressure medication', 'Insulin', 'Hormone replacement therapy', 'Oral contraceptive pill or minipill'], y=[data_df['Cholesterol lowering medication regularly taken'].sum(), data_df['Blood pressure medication regularly taken'].sum(), data_df['Insulin medication regularly taken'].sum(), data_df['Hormone replacement therapy medication regularly taken'].sum(), data_df['Oral contraceptive pill or minipill medication regularly taken'].sum()])\n",
    "ax.tick_params(axis='x', rotation=45)"
   ]
  },
  {
   "cell_type": "markdown",
   "id": "e21b111c-479d-469f-8038-d6bbcda00a4f",
   "metadata": {},
   "source": [
    "### Medication for cholesterol, blood pressure or diabetes"
   ]
  },
  {
   "cell_type": "markdown",
   "id": "1ed8a793-b366-474b-bbfb-61ed6c8323fe",
   "metadata": {},
   "source": [
    "Male version of field 6153 (Medication for cholesterol, blood pressure, diabetes, or take exogenous hormones)\n",
    "\n",
    "If code -7 (\"None of the above\") was selected, then no additional choices were allowed.    -> 0 \n",
    "\n",
    "If code -1 (\"Do not know\") was selected, then no additional choices were allowed.          -> pd.NA \n",
    "\n",
    "If code -3 (\"Prefer not to answer\") was selected, then no additional choices were allowed. -> pd.NA \n",
    "\n",
    "Array with maximum length 3 for all three options concurrently"
   ]
  },
  {
   "cell_type": "code",
   "execution_count": null,
   "id": "72cb6884-a70f-42a2-b5b7-fc33ed774338",
   "metadata": {
    "tags": []
   },
   "outputs": [],
   "source": [
    "field_name = 'Medication for cholesterol, blood pressure or diabetes'\n",
    "instance_array_size=4\n",
    "option_array_size=3\n",
    "\n",
    "for i in range(instance_array_size):\n",
    "    for j in range(option_array_size):\n",
    "        field_id = f'{field_name}-{i}.{j}'\n",
    "        data_df[field_id] = pd.to_numeric(data_df[field_id],errors='coerce')\n",
    "        data_df.loc[data_df[field_id]==-1, field_id] = pd.NA\n",
    "        data_df.loc[data_df[field_id]==-3, field_id] = pd.NA\n",
    "        data_df.loc[data_df[field_id]==-7, field_id] = 0\n",
    "        \n",
    "data_df['Cholesterol lowering medication regularly taken'] = check_answer(data_df=data_df, answer=1, field_name=field_name, instance_array_size=instance_array_size, option_array_size=option_array_size, agnostic_field='Cholesterol lowering medication regularly taken')\n",
    "data_df['Blood pressure medication regularly taken'] = check_answer(data_df=data_df, answer=2, field_name=field_name, instance_array_size=instance_array_size, option_array_size=option_array_size, agnostic_field='Blood pressure medication regularly taken')\n",
    "data_df['Insulin medication regularly taken'] = check_answer(data_df=data_df, answer=3, field_name=field_name, instance_array_size=instance_array_size, option_array_size=option_array_size, agnostic_field='Insulin medication regularly taken')"
   ]
  },
  {
   "cell_type": "code",
   "execution_count": null,
   "id": "da3dfadf",
   "metadata": {},
   "outputs": [],
   "source": [
    "field_name = 'Medication for cholesterol, blood pressure, diabetes, or take exogenous hormones'\n",
    "option_array_size=4\n",
    "\n",
    "data_df['Cholesterol lowering medication regularly taken-0.0'] = check_answer_single_visit(data_df=data_df, answer=1, visit=0, field_name=field_name, option_array_size=option_array_size, agnostic_field='Cholesterol lowering medication regularly taken-0.0')\n",
    "data_df['Cholesterol lowering medication regularly taken-2.0'] = check_answer_single_visit(data_df=data_df, answer=1, visit=2, field_name=field_name, option_array_size=option_array_size, agnostic_field='Cholesterol lowering medication regularly taken-2.0')\n",
    "\n",
    "data_df['Blood pressure medication regularly taken-0.0'] = check_answer_single_visit(data_df=data_df, answer=2, visit=0, field_name=field_name, option_array_size=option_array_size, agnostic_field='Blood pressure medication regularly taken-0.0')\n",
    "data_df['Blood pressure medication regularly taken-2.0'] = check_answer_single_visit(data_df=data_df, answer=2, visit=2, field_name=field_name, option_array_size=option_array_size, agnostic_field='Blood pressure medication regularly taken-2.0')\n",
    "\n",
    "data_df['Insulin medication regularly taken-0.0'] = check_answer_single_visit(data_df=data_df, answer=3, visit=0, field_name=field_name, option_array_size=option_array_size, agnostic_field='Insulin medication regularly taken-0.0')\n",
    "data_df['Insulin medication regularly taken-2.0'] = check_answer_single_visit(data_df=data_df, answer=3, visit=2, field_name=field_name, option_array_size=option_array_size, agnostic_field='Insulin medication regularly taken-2.0')"
   ]
  },
  {
   "cell_type": "code",
   "execution_count": null,
   "id": "2dcaf2b5-40c9-4879-ab74-ac4f070bc928",
   "metadata": {},
   "outputs": [],
   "source": [
    "# Update diabetes field\n",
    "diabetes_diagnosed=check_answer(data_df=data_df, answer=3, field_name=field_name, instance_array_size=instance_array_size, option_array_size=option_array_size, agnostic_field='Diabetes diagnosis')\n",
    "data_df['Diabetes diagnosis']=diabetes_diagnosed\n",
    "print(f'{sum(diabetes_diagnosed)} subjects indicated diabetes diagnosis by doctor, age for diagnosis, or that they are taking insulin medication regularly')"
   ]
  },
  {
   "cell_type": "code",
   "execution_count": null,
   "id": "d06bca69-4985-4126-b356-fe01d772c4b2",
   "metadata": {},
   "outputs": [],
   "source": [
    "field_id = f'Medication for cholesterol, blood pressure or diabetes-0.0'\n",
    "plot_hist(data_df=data_df, field_id=field_id)"
   ]
  },
  {
   "cell_type": "code",
   "execution_count": null,
   "id": "be375d19-b0cf-4279-9eaa-db1b37413101",
   "metadata": {},
   "outputs": [],
   "source": [
    "ax = sns.barplot(x=['Cholesterol lowering medication', 'Blood pressure medication', 'Insulin'], y=[data_df['Cholesterol lowering medication regularly taken'].sum(), data_df['Blood pressure medication regularly taken'].sum(), data_df['Insulin medication regularly taken'].sum()])\n",
    "ax.tick_params(axis='x', rotation=45)"
   ]
  },
  {
   "cell_type": "markdown",
   "id": "fd673ede-6fe3-4feb-9b01-5dabd7a4db2d",
   "metadata": {},
   "source": [
    "### Pacemaker"
   ]
  },
  {
   "cell_type": "markdown",
   "id": "3bfac250-27ec-4402-a209-a7ad01793e19",
   "metadata": {},
   "source": [
    "'Participants asked by interviewer if they have a pace-maker before the body impedance measures. Impedance measurement was not performed if they had a pace-maker.'\n",
    "\n",
    "Should be checked against the operation code for pacemaker"
   ]
  },
  {
   "cell_type": "code",
   "execution_count": null,
   "id": "5eb176d9-20b7-4ea4-9243-cbac2db70a2a",
   "metadata": {},
   "outputs": [],
   "source": [
    "field_id = 'Pace-maker-2.0'\n",
    "data_df[field_id] = pd.to_numeric(data_df[field_id],errors='coerce')\n",
    "plot_hist(data_df=data_df, field_id=field_id)"
   ]
  },
  {
   "cell_type": "code",
   "execution_count": null,
   "id": "76037b0c-9632-4bfb-8a0a-7480beeaa316",
   "metadata": {},
   "outputs": [],
   "source": [
    "cardiac_codes = ['1096','1548','1549']\n",
    "field_name = 'Operation code'\n",
    "data_df['Pacemaker operations performed'] = operations_performed(data_df=data_df, field_name=field_name, operation_codes=cardiac_codes)"
   ]
  },
  {
   "cell_type": "code",
   "execution_count": null,
   "id": "c8b5053d-36aa-4bb0-8676-49d16bb6b159",
   "metadata": {},
   "outputs": [],
   "source": [
    "pace_maker_eids = data_df.loc[data_df['Pace-maker-2.0']==1]['eid']\n",
    "pace_maker_ops_eids = data_df.loc[data_df['Pacemaker operations performed']>0]['eid']\n",
    "print('{} subjects said they had a pacemaker'.format(len(pace_maker_eids)))\n",
    "print('{} subjects did NOT specify they had surgery for a pacemaker'.format(len(set(pace_maker_eids)-set(pace_maker_ops_eids))))"
   ]
  },
  {
   "cell_type": "markdown",
   "id": "527300f3-e80a-469d-a5b9-d72d6d64fe49",
   "metadata": {},
   "source": [
    "Apparently none of the people that specified they have a pacemaker at imaging time also specified a pacemaker operation"
   ]
  },
  {
   "cell_type": "code",
   "execution_count": null,
   "id": "e318f872-a8d2-48a8-840f-1251dfe2e5d7",
   "metadata": {},
   "outputs": [],
   "source": [
    "field_id = 'Pace-maker-0.0'\n",
    "data_df[field_id] = pd.to_numeric(data_df[field_id],errors='coerce')\n",
    "pace_maker_eids = data_df.loc[data_df['Pace-maker-0.0']==1]['eid']\n",
    "pace_maker_ops_eids = data_df.loc[data_df['Pacemaker operations performed']>0]['eid']\n",
    "print('{} subjects said they had a pacemaker'.format(len(pace_maker_eids)))\n",
    "print('{} subjects did NOT specify they had surgery for a pacemaker'.format(len(set(pace_maker_eids)-set(pace_maker_ops_eids))))"
   ]
  },
  {
   "cell_type": "markdown",
   "id": "b69e5fc8-ec59-4444-b4db-c8102ddb683d",
   "metadata": {},
   "source": [
    "417 subjects said they had a pacemaker before the body impedance measure but did not specify it in their surgical recollection \n",
    "\n",
    "**TODO: Do we create a separate field for pacemaker and take the superset of the operation field and this field?**"
   ]
  },
  {
   "cell_type": "markdown",
   "id": "8fce85f7-4a56-4544-9e7c-025c407bf429",
   "metadata": {},
   "source": [
    "### Operation Code"
   ]
  },
  {
   "cell_type": "markdown",
   "id": "267a917e-32e3-4019-b719-6625c1102d97",
   "metadata": {},
   "source": [
    "Max array size 32. All 4 instances\n",
    "\n",
    "**TODO: Weight by severity?** one column for me one for dr\n",
    "\n",
    "**TODO: Repeat operations?**"
   ]
  },
  {
   "cell_type": "code",
   "execution_count": null,
   "id": "cd9c5046-8d73-4b14-b03d-d8759a13d7d8",
   "metadata": {},
   "outputs": [],
   "source": [
    "# Cardiac codes taken from file CardiacOperationCodes.csv\n",
    "field_name = 'Operation code'\n",
    "cardiac_codes = [1069,1070,1071,1095,1096,1097,1098,1099,1100,1101,1102,1103,1104,1105,1106,1107,1108,1109,1110,1514,1515,1516,1545,1599,1552,1604,1548,1549,1550,1551,1523,1524,1553,1554,1393,1479,1555,1476]\n",
    "\n",
    "data_df['Cardiac operations performed'] = operations_performed(data_df=data_df, field_name=field_name, operation_codes=cardiac_codes) "
   ]
  },
  {
   "cell_type": "code",
   "execution_count": null,
   "id": "a026dd9c-88bd-424e-8e3c-5103829605b0",
   "metadata": {},
   "outputs": [],
   "source": [
    "plot_hist(data_df=data_df, field_id='Cardiac operations performed')"
   ]
  },
  {
   "cell_type": "markdown",
   "id": "afb9a0f5",
   "metadata": {},
   "source": [
    "### Total thigh fat-free muscle volume"
   ]
  },
  {
   "cell_type": "code",
   "execution_count": null,
   "id": "35958abe",
   "metadata": {},
   "outputs": [],
   "source": [
    "field_id = 'Total thigh fat-free muscle volume-2.0'\n",
    "data_df[field_id] = pd.to_numeric(data_df[field_id],errors='coerce')\n",
    "plot_hist(data_df=data_df, field_id=field_id)"
   ]
  },
  {
   "cell_type": "markdown",
   "id": "0c753168",
   "metadata": {},
   "source": [
    "### Total trunk fat volume"
   ]
  },
  {
   "cell_type": "code",
   "execution_count": null,
   "id": "de41b3af",
   "metadata": {},
   "outputs": [],
   "source": [
    "field_id = 'Total trunk fat volume-2.0'\n",
    "data_df[field_id] = pd.to_numeric(data_df[field_id],errors='coerce')\n",
    "plot_hist(data_df=data_df, field_id=field_id)"
   ]
  },
  {
   "cell_type": "markdown",
   "id": "a6f7e9a8",
   "metadata": {},
   "source": [
    "### Total adipose tissue volume"
   ]
  },
  {
   "cell_type": "code",
   "execution_count": null,
   "id": "df41eb53",
   "metadata": {},
   "outputs": [],
   "source": [
    "field_id = 'Total adipose tissue volume-2.0'\n",
    "data_df[field_id] = pd.to_numeric(data_df[field_id],errors='coerce')\n",
    "plot_hist(data_df=data_df, field_id=field_id)"
   ]
  },
  {
   "cell_type": "markdown",
   "id": "6c3d2d57",
   "metadata": {},
   "source": [
    "### Total abdominal adipose tissue index"
   ]
  },
  {
   "cell_type": "code",
   "execution_count": null,
   "id": "8af6dbcd",
   "metadata": {},
   "outputs": [],
   "source": [
    "field_id = 'Total abdominal adipose tissue index-2.0'\n",
    "data_df[field_id] = pd.to_numeric(data_df[field_id],errors='coerce')\n",
    "plot_hist(data_df=data_df, field_id=field_id)"
   ]
  },
  {
   "cell_type": "markdown",
   "id": "262b55e5",
   "metadata": {},
   "source": [
    "### Weight-to-muscle ratio"
   ]
  },
  {
   "cell_type": "code",
   "execution_count": null,
   "id": "dfc0b316",
   "metadata": {},
   "outputs": [],
   "source": [
    "field_id = 'Weight-to-muscle ratio-2.0'\n",
    "data_df[field_id] = pd.to_numeric(data_df[field_id],errors='coerce')\n",
    "plot_hist(data_df=data_df, field_id=field_id)"
   ]
  },
  {
   "cell_type": "markdown",
   "id": "66ce10df",
   "metadata": {},
   "source": [
    "### Abdominal fat ratio"
   ]
  },
  {
   "cell_type": "code",
   "execution_count": null,
   "id": "4f132ac7",
   "metadata": {},
   "outputs": [],
   "source": [
    "field_id = 'Abdominal fat ratio-2.0'\n",
    "data_df[field_id] = pd.to_numeric(data_df[field_id],errors='coerce')\n",
    "plot_hist(data_df=data_df, field_id=field_id)"
   ]
  },
  {
   "cell_type": "markdown",
   "id": "c02758e5",
   "metadata": {},
   "source": [
    "### Ever addicted to any substance or behaviour"
   ]
  },
  {
   "cell_type": "code",
   "execution_count": null,
   "id": "b078ffb9",
   "metadata": {},
   "outputs": [],
   "source": [
    "field_id = 'Ever addicted to any substance or behaviour-0.0'\n",
    "data_df[field_id] = pd.to_numeric(data_df[field_id],errors='coerce')\n",
    "plot_hist(data_df=data_df, field_id=field_id)"
   ]
  },
  {
   "cell_type": "markdown",
   "id": "3f2f0e25",
   "metadata": {},
   "source": [
    "**NOTE: Very general. Followup questions specify yes answers and need to be parsed as such.**"
   ]
  },
  {
   "cell_type": "markdown",
   "id": "4c0dfb99",
   "metadata": {},
   "source": [
    "### Ever physically dependent on alcohol"
   ]
  },
  {
   "cell_type": "markdown",
   "id": "de50d1cf",
   "metadata": {},
   "source": [
    "**NOTE** Only asked if answered yes to 20406 (Ever addicted to alcohol) which was only asked if answered yes to 20401 (Ever addicted to any substance or behaviour). Requires checks against other fields to fill in rest of nos. Initial field is quite sparse though so effort not made here to do that"
   ]
  },
  {
   "cell_type": "code",
   "execution_count": null,
   "id": "302fd18a",
   "metadata": {},
   "outputs": [],
   "source": [
    "#field_id = 'Ever physically dependent on alcohol-0.0'\n",
    "#data_df[field_id] = pd.to_numeric(data_df[field_id],errors='coerce')\n",
    "#plot_hist(data_df=data_df, field_id=field_id)"
   ]
  },
  {
   "cell_type": "markdown",
   "id": "a6c9dbd5",
   "metadata": {},
   "source": [
    "### Ever addicted to alcohol"
   ]
  },
  {
   "cell_type": "code",
   "execution_count": null,
   "id": "d96977f5",
   "metadata": {},
   "outputs": [],
   "source": [
    "field_id = 'Ever addicted to alcohol-0.0'\n",
    "data_df[field_id] = pd.to_numeric(data_df[field_id],errors='coerce')\n",
    "plot_hist(data_df=data_df, field_id=field_id)"
   ]
  },
  {
   "cell_type": "markdown",
   "id": "c2d1941e",
   "metadata": {},
   "source": [
    "### Ongoing addiction to alcohol"
   ]
  },
  {
   "cell_type": "code",
   "execution_count": null,
   "id": "f6da4b26",
   "metadata": {},
   "outputs": [],
   "source": [
    "field_id = 'Ongoing addiction to alcohol-0.0'\n",
    "data_df[field_id] = pd.to_numeric(data_df[field_id],errors='coerce')\n",
    "plot_hist(data_df=data_df, field_id=field_id)"
   ]
  },
  {
   "cell_type": "markdown",
   "id": "3c92a386",
   "metadata": {},
   "source": [
    "### Ever addicted to a behaviour or miscellanous"
   ]
  },
  {
   "cell_type": "code",
   "execution_count": null,
   "id": "07c0902c",
   "metadata": {},
   "outputs": [],
   "source": [
    "field_id = 'Ever addicted to a behaviour or miscellanous-0.0'\n",
    "data_df[field_id] = pd.to_numeric(data_df[field_id],errors='coerce')\n",
    "plot_hist(data_df=data_df, field_id=field_id)"
   ]
  },
  {
   "cell_type": "markdown",
   "id": "72d4b1f5",
   "metadata": {},
   "source": [
    "### Ongoing behavioural or miscellanous addiction"
   ]
  },
  {
   "cell_type": "code",
   "execution_count": null,
   "id": "77b0afe1",
   "metadata": {},
   "outputs": [],
   "source": [
    "field_id = 'Ongoing behavioural or miscellanous addiction-0.0'\n",
    "data_df[field_id] = pd.to_numeric(data_df[field_id],errors='coerce')\n",
    "plot_hist(data_df=data_df, field_id=field_id)"
   ]
  },
  {
   "cell_type": "markdown",
   "id": "304694cc",
   "metadata": {},
   "source": [
    "**NOTE: Answered by practically no one. Remove**"
   ]
  },
  {
   "cell_type": "markdown",
   "id": "9be232b9",
   "metadata": {},
   "source": [
    "### Ever addicted to illicit or recreational drugs"
   ]
  },
  {
   "cell_type": "code",
   "execution_count": null,
   "id": "6f174a1d",
   "metadata": {},
   "outputs": [],
   "source": [
    "field_id = 'Ever addicted to illicit or recreational drugs-0.0'\n",
    "data_df[field_id] = pd.to_numeric(data_df[field_id],errors='coerce')\n",
    "plot_hist(data_df=data_df, field_id=field_id)"
   ]
  },
  {
   "cell_type": "markdown",
   "id": "a19f766a",
   "metadata": {},
   "source": [
    "**NOTE: Answered by practically no one. Remove**"
   ]
  },
  {
   "cell_type": "markdown",
   "id": "65c77176",
   "metadata": {},
   "source": [
    "### Substance of prescription or over-the-counter medication addiction"
   ]
  },
  {
   "cell_type": "code",
   "execution_count": null,
   "id": "9d26b292",
   "metadata": {},
   "outputs": [],
   "source": [
    "field_id = 'Ongoing addiction or dependence on illicit or recreational drugs-0.0'\n",
    "data_df[field_id] = pd.to_numeric(data_df[field_id],errors='coerce')\n",
    "plot_hist(data_df=data_df, field_id=field_id)"
   ]
  },
  {
   "cell_type": "markdown",
   "id": "48d1a46a",
   "metadata": {},
   "source": [
    "### Substance of prescription or over-the-counter medication addiction"
   ]
  },
  {
   "cell_type": "markdown",
   "id": "e63c9e5d",
   "metadata": {},
   "source": [
    "### Substances taken for anxiety"
   ]
  },
  {
   "cell_type": "code",
   "execution_count": null,
   "id": "da73b7af",
   "metadata": {},
   "outputs": [],
   "source": [
    "field_id = 'Professional informed about anxiety-0.0'\n",
    "data_df[field_id] = pd.to_numeric(data_df[field_id],errors='coerce')\n",
    "data_df.loc[data_df[field_id]==-818,field_id] = pd.NA # Prefer not to answer\n",
    "data_df.loc[data_df[field_id]==-121,field_id] = pd.NA # Do not know\n",
    "plot_hist(data_df=data_df, field_id=field_id)"
   ]
  },
  {
   "cell_type": "markdown",
   "id": "e63c9e5d",
   "metadata": {},
   "source": [
    "### Substances taken for anxiety"
   ]
  },
  {
   "cell_type": "code",
   "execution_count": null,
   "id": "da73b7af",
   "metadata": {},
   "outputs": [],
   "source": [
    "field_id = 'Professional informed about anxiety-0.0'\n",
    "data_df[field_id] = pd.to_numeric(data_df[field_id],errors='coerce')\n",
    "data_df.loc[data_df[field_id]==-818,field_id] = pd.NA # Prefer not to answer\n",
    "data_df.loc[data_df[field_id]==-121,field_id] = pd.NA # Do not know\n",
    "plot_hist(data_df=data_df, field_id=field_id)"
   ]
  },
  {
   "cell_type": "markdown",
   "id": "e63c9e5d",
   "metadata": {},
   "source": [
    "### Substances taken for anxiety"
   ]
  },
  {
   "cell_type": "code",
   "execution_count": null,
   "id": "da73b7af",
   "metadata": {},
   "outputs": [],
   "source": [
    "field_id = 'Professional informed about anxiety-0.0'\n",
    "data_df[field_id] = pd.to_numeric(data_df[field_id],errors='coerce')\n",
    "data_df.loc[data_df[field_id]==-818,field_id] = pd.NA # Prefer not to answer\n",
    "data_df.loc[data_df[field_id]==-121,field_id] = pd.NA # Do not know\n",
    "plot_hist(data_df=data_df, field_id=field_id)"
   ]
  },
  {
   "cell_type": "markdown",
   "id": "e5ec9d9d",
   "metadata": {},
   "source": [
    "NOTE: Online follow-up question so relatively close to imaging "
   ]
  },
  {
   "cell_type": "markdown",
   "id": "e63c9e5d",
   "metadata": {},
   "source": [
    "### Substances taken for anxiety"
   ]
  },
  {
   "cell_type": "code",
   "execution_count": null,
   "id": "da73b7af",
   "metadata": {},
   "outputs": [],
   "source": [
    "field_id = 'Professional informed about anxiety-0.0'\n",
    "data_df[field_id] = pd.to_numeric(data_df[field_id],errors='coerce')\n",
    "data_df.loc[data_df[field_id]==-818,field_id] = pd.NA # Prefer not to answer\n",
    "data_df.loc[data_df[field_id]==-121,field_id] = pd.NA # Do not know\n",
    "plot_hist(data_df=data_df, field_id=field_id)"
   ]
  },
  {
   "cell_type": "markdown",
   "id": "e5ec9d9d",
   "metadata": {},
   "source": [
    "NOTE: Online follow-up question so relatively close to imaging "
   ]
  },
  {
   "cell_type": "markdown",
   "id": "e63c9e5d",
   "metadata": {},
   "source": [
    "### Substances taken for anxiety"
   ]
  },
  {
   "cell_type": "code",
   "execution_count": null,
   "id": "da73b7af",
   "metadata": {},
   "outputs": [],
   "source": [
    "field_id = 'Professional informed about anxiety-0.0'\n",
    "data_df[field_id] = pd.to_numeric(data_df[field_id],errors='coerce')\n",
    "data_df.loc[data_df[field_id]==-818,field_id] = pd.NA # Prefer not to answer\n",
    "data_df.loc[data_df[field_id]==-121,field_id] = pd.NA # Do not know\n",
    "plot_hist(data_df=data_df, field_id=field_id)"
   ]
  },
  {
   "cell_type": "markdown",
   "id": "e5ec9d9d",
   "metadata": {},
   "source": [
    "NOTE: Online follow-up question so relatively close to imaging "
   ]
  },
  {
   "cell_type": "markdown",
   "id": "e63c9e5d",
   "metadata": {},
   "source": [
    "### Substances taken for anxiety"
   ]
  },
  {
   "cell_type": "markdown",
   "id": "854a528f",
   "metadata": {},
   "source": [
    "Needs to be fleshed out by looking for who answered \"no\" to 20421 and giving them the value of 0 here. Response rate too low though so left to future work"
   ]
  },
  {
   "cell_type": "code",
   "execution_count": null,
   "id": "da73b7af",
   "metadata": {},
   "outputs": [],
   "source": [
    "field_id = 'Professional informed about anxiety-0.0'\n",
    "data_df[field_id] = pd.to_numeric(data_df[field_id],errors='coerce')\n",
    "data_df.loc[data_df[field_id]==-818,field_id] = pd.NA # Prefer not to answer\n",
    "data_df.loc[data_df[field_id]==-121,field_id] = pd.NA # Do not know\n",
    "plot_hist(data_df=data_df, field_id=field_id)"
   ]
  },
  {
   "cell_type": "markdown",
   "id": "e5ec9d9d",
   "metadata": {},
   "source": [
    "NOTE: Online follow-up question so relatively close to imaging "
   ]
  },
  {
   "cell_type": "markdown",
   "id": "e63c9e5d",
   "metadata": {},
   "source": [
    "### Substances taken for anxiety"
   ]
  },
  {
   "cell_type": "code",
   "execution_count": null,
   "id": "da73b7af",
   "metadata": {},
   "outputs": [],
   "source": [
    "field_id = 'Professional informed about anxiety-0.0'\n",
    "data_df[field_id] = pd.to_numeric(data_df[field_id],errors='coerce')\n",
    "data_df.loc[data_df[field_id]==-818,field_id] = pd.NA # Prefer not to answer\n",
    "data_df.loc[data_df[field_id]==-121,field_id] = pd.NA # Do not know\n",
    "plot_hist(data_df=data_df, field_id=field_id)"
   ]
  },
  {
   "cell_type": "markdown",
   "id": "e5ec9d9d",
   "metadata": {},
   "source": [
    "NOTE: Online follow-up question so relatively close to imaging "
   ]
  },
  {
   "cell_type": "markdown",
   "id": "e63c9e5d",
   "metadata": {},
   "source": [
    "### Substances taken for anxiety"
   ]
  },
  {
   "cell_type": "code",
   "execution_count": null,
   "id": "da73b7af",
   "metadata": {},
   "outputs": [],
   "source": [
    "field_id = 'Professional informed about anxiety-0.0'\n",
    "data_df[field_id] = pd.to_numeric(data_df[field_id],errors='coerce')\n",
    "data_df.loc[data_df[field_id]==-818,field_id] = pd.NA # Prefer not to answer\n",
    "data_df.loc[data_df[field_id]==-121,field_id] = pd.NA # Do not know\n",
    "plot_hist(data_df=data_df, field_id=field_id)"
   ]
  },
  {
   "cell_type": "markdown",
   "id": "e63c9e5d",
   "metadata": {},
   "source": [
    "### Substances taken for anxiety"
   ]
  },
  {
   "cell_type": "markdown",
   "id": "5e8e0bbf",
   "metadata": {},
   "source": [
    "### Activities undertaken to treat anxiety"
   ]
  },
  {
   "cell_type": "markdown",
   "id": "35bdb96f",
   "metadata": {},
   "source": [
    "### Blood biochemistry"
   ]
  },
  {
   "cell_type": "markdown",
   "id": "e7bc8244",
   "metadata": {},
   "source": [
    "**NOTE: Only taken at initial assessment and first repeat. Too far away from imaging. Remove**"
   ]
  },
  {
   "cell_type": "markdown",
   "id": "175c6e0c",
   "metadata": {},
   "source": [
    "### Blood cell count"
   ]
  },
  {
   "cell_type": "markdown",
   "id": "0f70a99e",
   "metadata": {},
   "source": [
    "**Very low coverage. (10%) Removed**"
   ]
  },
  {
   "cell_type": "code",
   "execution_count": null,
   "id": "8bf36c29",
   "metadata": {},
   "outputs": [],
   "source": [
    "field_id = f'Total mass-2.0'\n",
    "data_df[field_id] = pd.to_numeric(data_df[field_id],errors='coerce')\n",
    "remove_outliers(data_df,field_id,limit=100,greater=False)\n",
    "#plot_hist(data_df=data_df, field_id=field_id)"
   ]
  },
  {
   "cell_type": "code",
   "execution_count": null,
   "id": "df7d0a69",
   "metadata": {},
   "outputs": [],
   "source": [
    "field_id = f'Basal metabolic rate-2.0'\n",
    "data_df[field_id] = pd.to_numeric(data_df[field_id],errors='coerce')\n",
    "remove_outliers(data_df,field_id,limit=10,greater=False)\n",
    "plot_hist(data_df=data_df, field_id=field_id)"
   ]
  },
  {
   "cell_type": "code",
   "execution_count": null,
   "id": "2dccdbd1",
   "metadata": {},
   "outputs": [],
   "source": [
    "field_id = f'Impedance of whole body-2.0'\n",
    "data_df[field_id] = pd.to_numeric(data_df[field_id],errors='coerce')\n",
    "remove_outliers(data_df,field_id,limit=10,greater=False)\n",
    "plot_hist(data_df=data_df, field_id=field_id)"
   ]
  },
  {
   "cell_type": "code",
   "execution_count": null,
   "id": "bc4d481a",
   "metadata": {},
   "outputs": [],
   "source": [
    "field_id = f'Waist circumference-2.0'\n",
    "data_df[field_id] = pd.to_numeric(data_df[field_id],errors='coerce')\n",
    "remove_outliers(data_df,field_id,limit=10,greater=False)\n",
    "plot_hist(data_df=data_df, field_id=field_id)"
   ]
  },
  {
   "cell_type": "code",
   "execution_count": null,
   "id": "838fa5f4",
   "metadata": {},
   "outputs": [],
   "source": [
    "field_id = f'Hip circumference-2.0'\n",
    "data_df[field_id] = pd.to_numeric(data_df[field_id],errors='coerce')\n",
    "remove_outliers(data_df,field_id,limit=10,greater=False)\n",
    "plot_hist(data_df=data_df, field_id=field_id)"
   ]
  },
  {
   "cell_type": "code",
   "execution_count": null,
   "id": "82c17ff3",
   "metadata": {},
   "outputs": [],
   "source": [
    "field_id = f'Standing height-2.0'\n",
    "data_df[field_id] = pd.to_numeric(data_df[field_id],errors='coerce')\n",
    "remove_outliers(data_df,field_id,limit=10,greater=False)\n",
    "plot_hist(data_df=data_df, field_id=field_id)"
   ]
  },
  {
   "cell_type": "markdown",
   "id": "71fdbdd1",
   "metadata": {},
   "source": [
    "**NOTE: Skip in favor of weight which is average of multiple fields**"
   ]
  },
  {
   "cell_type": "code",
   "execution_count": null,
   "id": "99ad343e",
   "metadata": {},
   "outputs": [],
   "source": [
    "field_id = f'Weight (pre-imaging)-2.0'\n",
    "data_df[field_id] = pd.to_numeric(data_df[field_id],errors='coerce')\n",
    "plot_hist(data_df=data_df, field_id=field_id)"
   ]
  },
  {
   "cell_type": "code",
   "execution_count": null,
   "id": "35710b81",
   "metadata": {},
   "outputs": [],
   "source": [
    "field_id = f'Height-2.0'\n",
    "data_df[field_id] = pd.to_numeric(data_df[field_id],errors='coerce')\n",
    "remove_outliers(data_df,field_id,limit=10,greater=False)\n",
    "plot_hist(data_df=data_df, field_id=field_id)"
   ]
  },
  {
   "cell_type": "code",
   "execution_count": null,
   "id": "591ed910",
   "metadata": {},
   "outputs": [],
   "source": [
    "field_id = f'Sitting height-2.0'\n",
    "data_df[field_id] = pd.to_numeric(data_df[field_id],errors='coerce')\n",
    "remove_outliers(data_df,field_id,limit=10,greater=False)\n",
    "plot_hist(data_df=data_df, field_id=field_id)"
   ]
  },
  {
   "cell_type": "code",
   "execution_count": null,
   "id": "5591b15a",
   "metadata": {},
   "outputs": [],
   "source": [
    "field_id = 'Weight-2.0'\n",
    "data_df[field_id] = pd.to_numeric(data_df[field_id],errors='coerce')\n",
    "data_df.loc[data_df[field_id].isna(),field_id] = data_df.loc[data_df[field_id].isna(),'Weight (pre-imaging)-2.0'] # This is an aggregate field but has some missing values. Missing values are taken from pre-imaging weighing\n",
    "remove_outliers(data_df,field_id,limit=2,greater=False)\n",
    "plot_hist(data_df=data_df, field_id=field_id)"
   ]
  },
  {
   "cell_type": "code",
   "execution_count": null,
   "id": "6f001881",
   "metadata": {},
   "outputs": [],
   "source": [
    "data_df['Weight-2.0']"
   ]
  },
  {
   "cell_type": "code",
   "execution_count": null,
   "id": "d3948745",
   "metadata": {},
   "outputs": [],
   "source": [
    "field_id = f'Average heart rate-2.0'\n",
    "data_df[field_id] = pd.to_numeric(data_df[field_id],errors='coerce')\n",
    "plot_hist(data_df=data_df, field_id=field_id)"
   ]
  },
  {
   "cell_type": "markdown",
   "id": "a190268c",
   "metadata": {},
   "source": [
    "The readings taken from Wenjias paper for some reason are super low coverage in UKBB. Going to use the values we calculated ourselves."
   ]
  },
  {
   "cell_type": "code",
   "execution_count": null,
   "id": "d3948745",
   "metadata": {},
   "outputs": [],
   "source": [
    "field_id = f'Average heart rate-2.0'\n",
    "data_df[field_id] = pd.to_numeric(data_df[field_id],errors='coerce')\n",
    "plot_hist(data_df=data_df, field_id=field_id)"
   ]
  },
  {
   "cell_type": "code",
   "execution_count": null,
   "id": "d3948745",
   "metadata": {},
   "outputs": [],
   "source": [
    "field_id = f'Average heart rate-2.0'\n",
    "data_df[field_id] = pd.to_numeric(data_df[field_id],errors='coerce')\n",
    "plot_hist(data_df=data_df, field_id=field_id)"
   ]
  },
  {
   "cell_type": "code",
   "execution_count": null,
   "id": "45f41629",
   "metadata": {},
   "outputs": [],
   "source": [
    "field_id = 'QRS duration-2.0'\n",
    "data_df[field_id] = pd.to_numeric(data_df[field_id],errors='coerce')\n",
    "remove_outliers(data_df,field_id,limit=2,greater=False)\n",
    "remove_outliers(data_df,field_id,limit=200,greater=True)\n",
    "plot_hist(data_df=data_df, field_id=field_id)"
   ]
  },
  {
   "cell_type": "code",
   "execution_count": null,
   "id": "d3948745",
   "metadata": {},
   "outputs": [],
   "source": [
    "field_id = f'Average heart rate-2.0'\n",
    "data_df[field_id] = pd.to_numeric(data_df[field_id],errors='coerce')\n",
    "plot_hist(data_df=data_df, field_id=field_id)"
   ]
  },
  {
   "cell_type": "code",
   "execution_count": null,
   "id": "d3948745",
   "metadata": {},
   "outputs": [],
   "source": [
    "field_id = f'Average heart rate-2.0'\n",
    "data_df[field_id] = pd.to_numeric(data_df[field_id],errors='coerce')\n",
    "plot_hist(data_df=data_df, field_id=field_id)"
   ]
  },
  {
   "cell_type": "code",
   "execution_count": null,
   "id": "b2ba3840",
   "metadata": {},
   "outputs": [],
   "source": [
    "field_id = f'RR interval-2.0'\n",
    "data_df[field_id] = pd.to_numeric(data_df[field_id],errors='coerce')\n",
    "remove_outliers(data_df,field_id,limit=2,greater=False)\n",
    "#remove_outliers(data_df,field_id,limit=700,greater=True)\n",
    "plot_hist(data_df=data_df, field_id=field_id)"
   ]
  },
  {
   "cell_type": "code",
   "execution_count": null,
   "id": "d3948745",
   "metadata": {},
   "outputs": [],
   "source": [
    "field_id = f'Average heart rate-2.0'\n",
    "data_df[field_id] = pd.to_numeric(data_df[field_id],errors='coerce')\n",
    "plot_hist(data_df=data_df, field_id=field_id)"
   ]
  },
  {
   "cell_type": "code",
   "execution_count": null,
   "id": "d3948745",
   "metadata": {},
   "outputs": [],
   "source": [
    "field_id = f'Average heart rate-2.0'\n",
    "data_df[field_id] = pd.to_numeric(data_df[field_id],errors='coerce')\n",
    "plot_hist(data_df=data_df, field_id=field_id)"
   ]
  },
  {
   "cell_type": "code",
   "execution_count": null,
   "id": "d3948745",
   "metadata": {},
   "outputs": [],
   "source": [
    "field_id = f'Average heart rate-2.0'\n",
    "data_df[field_id] = pd.to_numeric(data_df[field_id],errors='coerce')\n",
    "plot_hist(data_df=data_df, field_id=field_id)"
   ]
  },
  {
   "cell_type": "code",
   "execution_count": null,
   "id": "d3948745",
   "metadata": {},
   "outputs": [],
   "source": [
    "field_id = f'Average heart rate-2.0'\n",
    "data_df[field_id] = pd.to_numeric(data_df[field_id],errors='coerce')\n",
    "plot_hist(data_df=data_df, field_id=field_id)"
   ]
  },
  {
   "cell_type": "code",
   "execution_count": null,
   "id": "d3948745",
   "metadata": {},
   "outputs": [],
   "source": [
    "field_id = f'Average heart rate-2.0'\n",
    "data_df[field_id] = pd.to_numeric(data_df[field_id],errors='coerce')\n",
    "plot_hist(data_df=data_df, field_id=field_id)"
   ]
  },
  {
   "cell_type": "code",
   "execution_count": null,
   "id": "d3948745",
   "metadata": {},
   "outputs": [],
   "source": [
    "field_id = f'Average heart rate-2.0'\n",
    "data_df[field_id] = pd.to_numeric(data_df[field_id],errors='coerce')\n",
    "plot_hist(data_df=data_df, field_id=field_id)"
   ]
  },
  {
   "cell_type": "code",
   "execution_count": null,
   "id": "d3948745",
   "metadata": {},
   "outputs": [],
   "source": [
    "field_id = f'Average heart rate-2.0'\n",
    "data_df[field_id] = pd.to_numeric(data_df[field_id],errors='coerce')\n",
    "plot_hist(data_df=data_df, field_id=field_id)"
   ]
  },
  {
   "cell_type": "code",
   "execution_count": null,
   "id": "d3948745",
   "metadata": {},
   "outputs": [],
   "source": [
    "field_id = f'Average heart rate-2.0'\n",
    "data_df[field_id] = pd.to_numeric(data_df[field_id],errors='coerce')\n",
    "plot_hist(data_df=data_df, field_id=field_id)"
   ]
  },
  {
   "cell_type": "code",
   "execution_count": null,
   "id": "d3948745",
   "metadata": {},
   "outputs": [],
   "source": [
    "field_id = f'Average heart rate-2.0'\n",
    "data_df[field_id] = pd.to_numeric(data_df[field_id],errors='coerce')\n",
    "plot_hist(data_df=data_df, field_id=field_id)"
   ]
  },
  {
   "cell_type": "code",
   "execution_count": null,
   "id": "7afe7f7b",
   "metadata": {},
   "outputs": [],
   "source": [
    "field_id = f'Body surface area-2.0'\n",
    "data_df[field_id] = pd.to_numeric(data_df[field_id],errors='coerce')\n",
    "plot_hist(data_df=data_df, field_id=field_id)"
   ]
  },
  {
   "cell_type": "code",
   "execution_count": null,
   "id": "bf61ac70",
   "metadata": {},
   "outputs": [],
   "source": [
    "field_id = f'Tobacco smoking-0.0'\n",
    "data_df[field_id] = pd.to_numeric(data_df[field_id],errors='coerce')\n",
    "data_df.loc[data_df[field_id]==-818,field_id]=pd.NA\n",
    "data_df.loc[data_df[field_id]==111,field_id]=3\n",
    "data_df.loc[data_df[field_id]==112,field_id]=2\n",
    "data_df.loc[data_df[field_id]==113,field_id]=1\n",
    "data_df.loc[data_df[field_id]==114,field_id]=0\n",
    "plot_hist(data_df=data_df, field_id=field_id)"
   ]
  },
  {
   "cell_type": "code",
   "execution_count": null,
   "id": "5588184b",
   "metadata": {},
   "outputs": [],
   "source": [
    "field_id = f'Shortness of breath walking on level ground-2.0'\n",
    "data_df[field_id] = pd.to_numeric(data_df[field_id],errors='coerce')\n",
    "#data_df.loc[data_df[field_id]==-1,field_id] = pd.NA\n",
    "#data_df.loc[data_df[field_id]==-3,field_id] = pd.NA\n",
    "plot_hist(data_df=data_df, field_id=field_id)"
   ]
  },
  {
   "cell_type": "code",
   "execution_count": null,
   "id": "8d71f52a",
   "metadata": {},
   "outputs": [],
   "source": [
    "field_id = f'Worrier / anxious feelings-2.0'\n",
    "data_df[field_id] = pd.to_numeric(data_df[field_id],errors='coerce')\n",
    "#data_df.loc[data_df[field_id]==-1,field_id] = pd.NA\n",
    "#data_df.loc[data_df[field_id]==-3,field_id] = pd.NA\n",
    "plot_hist(data_df=data_df, field_id=field_id)"
   ]
  },
  {
   "cell_type": "code",
   "execution_count": null,
   "id": "2f4c4a26",
   "metadata": {},
   "outputs": [],
   "source": [
    "field_id = f'Tense / \\'highly strung\\'-2.0'\n",
    "data_df[field_id] = pd.to_numeric(data_df[field_id],errors='coerce')\n",
    "data_df.loc[data_df[field_id]==-1,field_id] = pd.NA\n",
    "data_df.loc[data_df[field_id]==-3,field_id] = pd.NA\n",
    "plot_hist(data_df=data_df, field_id=field_id)"
   ]
  },
  {
   "cell_type": "markdown",
   "id": "0eeac34f",
   "metadata": {},
   "source": [
    "NMR metabolomics only collected during initial visit. **Skip**. 23400-23480"
   ]
  },
  {
   "cell_type": "code",
   "execution_count": null,
   "id": "3d640d45",
   "metadata": {},
   "outputs": [],
   "source": [
    "field_id = 'Number of days/week walked 10+ minutes-2.0'\n",
    "data_df[field_id] = pd.to_numeric(data_df[field_id],errors='coerce')\n",
    "data_df.loc[data_df[field_id]==-1,field_id]=pd.NA\n",
    "data_df.loc[data_df[field_id]==-2,field_id]=pd.NA\n",
    "data_df.loc[data_df[field_id]==-3,field_id]=pd.NA\n",
    "plot_hist(data_df=data_df, field_id=field_id)"
   ]
  },
  {
   "cell_type": "code",
   "execution_count": null,
   "id": "3e2006c4",
   "metadata": {},
   "outputs": [],
   "source": [
    "field_id = 'Duration of walks-2.0'\n",
    "data_df[field_id] = pd.to_numeric(data_df[field_id],errors='coerce')\n",
    "data_df.loc[data_df[field_id]==-1,field_id]=pd.NA\n",
    "data_df.loc[data_df[field_id]==-3,field_id]=pd.NA\n",
    "data_df.loc[data_df['Number of days/week walked 10+ minutes-2.0']==0,field_id]=0 # If answered 0 to previous questions, this question is not asked, even though their answer would be 0\n",
    "remove_outliers(data_df,field_id,limit=1000,greater=True)\n",
    "plot_hist(data_df=data_df, field_id=field_id)"
   ]
  },
  {
   "cell_type": "code",
   "execution_count": null,
   "id": "7e917396",
   "metadata": {},
   "outputs": [],
   "source": [
    "field_id = 'Number of days/week of moderate physical activity 10+ minutes-2.0'\n",
    "data_df[field_id] = pd.to_numeric(data_df[field_id],errors='coerce')\n",
    "data_df.loc[data_df[field_id]==-1,field_id]=pd.NA\n",
    "data_df.loc[data_df[field_id]==-3,field_id]=pd.NA\n",
    "plot_hist(data_df=data_df, field_id=field_id)"
   ]
  },
  {
   "cell_type": "code",
   "execution_count": null,
   "id": "533e2033",
   "metadata": {},
   "outputs": [],
   "source": [
    "field_id = 'Duration of moderate activity-2.0'\n",
    "data_df[field_id] = pd.to_numeric(data_df[field_id],errors='coerce')\n",
    "data_df.loc[data_df[field_id]==-1,field_id]=pd.NA\n",
    "data_df.loc[data_df[field_id]==-3,field_id]=pd.NA\n",
    "data_df.loc[data_df['Number of days/week of moderate physical activity 10+ minutes-2.0']==0,field_id]=0 # If answered 0 to previous questions, this question is not asked, even though their answer would be 0\n",
    "remove_outliers(data_df,field_id,limit=1000,greater=True)\n",
    "plot_hist(data_df=data_df, field_id=field_id)"
   ]
  },
  {
   "cell_type": "code",
   "execution_count": null,
   "id": "a40340bd",
   "metadata": {},
   "outputs": [],
   "source": [
    "field_id = 'Number of days/week of vigorous physical activity 10+ minutes-2.0'\n",
    "data_df[field_id] = pd.to_numeric(data_df[field_id],errors='coerce')\n",
    "data_df.loc[data_df[field_id]==-1,field_id]=pd.NA\n",
    "data_df.loc[data_df[field_id]==-3,field_id]=pd.NA\n",
    "plot_hist(data_df=data_df, field_id=field_id)"
   ]
  },
  {
   "cell_type": "code",
   "execution_count": null,
   "id": "a377e80c",
   "metadata": {},
   "outputs": [],
   "source": [
    "field_id = 'Duration of vigorous activity-2.0'\n",
    "data_df[field_id] = pd.to_numeric(data_df[field_id],errors='coerce')\n",
    "data_df.loc[data_df[field_id]==-1,field_id]=pd.NA\n",
    "data_df.loc[data_df[field_id]==-3,field_id]=pd.NA\n",
    "data_df.loc[data_df['Number of days/week of vigorous physical activity 10+ minutes-2.0']==0,field_id]=0 # If answered 0 to previous questions, this question is not asked, even though their answer would be 0\n",
    "remove_outliers(data_df,field_id,limit=1000,greater=True)\n",
    "plot_hist(data_df=data_df, field_id=field_id)"
   ]
  },
  {
   "cell_type": "code",
   "execution_count": null,
   "id": "083b285e",
   "metadata": {},
   "outputs": [],
   "source": [
    "field_id = 'Usual walking pace-2.0'\n",
    "data_df[field_id] = pd.to_numeric(data_df[field_id],errors='coerce')\n",
    "data_df.loc[data_df[field_id]==-7,field_id]=pd.NA\n",
    "data_df.loc[data_df[field_id]==-3,field_id]=pd.NA\n",
    "plot_hist(data_df=data_df, field_id=field_id)"
   ]
  },
  {
   "cell_type": "code",
   "execution_count": null,
   "id": "00352f1f",
   "metadata": {},
   "outputs": [],
   "source": [
    "field_id = 'Frequency of stair climbing in last 4 weeks-2.0'\n",
    "data_df[field_id] = pd.to_numeric(data_df[field_id],errors='coerce')\n",
    "data_df.loc[data_df[field_id].isna(),field_id]=0 # NA means didnt indicate in questions 6164 so answer is 0\n",
    "data_df.loc[data_df[field_id]==-1,field_id]=pd.NA\n",
    "data_df.loc[data_df[field_id]==-3,field_id]=pd.NA\n",
    "plot_hist(data_df=data_df, field_id=field_id)"
   ]
  },
  {
   "cell_type": "code",
   "execution_count": null,
   "id": "5345aee8",
   "metadata": {},
   "outputs": [],
   "source": [
    "field_id = 'Frequency of walking for pleasure in last 4 weeks-2.0'\n",
    "data_df[field_id] = pd.to_numeric(data_df[field_id],errors='coerce')\n",
    "data_df.loc[data_df[field_id].isna(),field_id]=0 # NA means didnt indicate in questions 6164 so answer is 0\n",
    "data_df.loc[data_df[field_id]==-1,field_id]=pd.NA\n",
    "data_df.loc[data_df[field_id]==-3,field_id]=pd.NA\n",
    "plot_hist(data_df=data_df, field_id=field_id)"
   ]
  },
  {
   "cell_type": "code",
   "execution_count": null,
   "id": "c7e161b0",
   "metadata": {},
   "outputs": [],
   "source": [
    "field_id = 'Duration walking for pleasure-2.0'\n",
    "data_df[field_id] = pd.to_numeric(data_df[field_id],errors='coerce')\n",
    "data_df.loc[data_df[field_id].isna(),field_id]=0 # NA means doesn't walk for pleasure so answer is 0\n",
    "data_df.loc[data_df[field_id]==-1,field_id]=pd.NA\n",
    "data_df.loc[data_df[field_id]==-3,field_id]=pd.NA\n",
    "remove_outliers(data_df,field_id,limit=1000,greater=True)\n",
    "plot_hist(data_df=data_df, field_id=field_id)"
   ]
  },
  {
   "cell_type": "code",
   "execution_count": null,
   "id": "7707806b",
   "metadata": {},
   "outputs": [],
   "source": [
    "field_id = 'Frequency of strenuous sports in last 4 weeks-2.0'\n",
    "data_df[field_id] = pd.to_numeric(data_df[field_id],errors='coerce')\n",
    "data_df.loc[data_df[field_id].isna(),field_id]=0 # NA means didnt indicate in questions 6164 so answer is 0\n",
    "data_df.loc[data_df[field_id]==-1,field_id]=pd.NA\n",
    "data_df.loc[data_df[field_id]==-3,field_id]=pd.NA\n",
    "plot_hist(data_df=data_df, field_id=field_id)"
   ]
  },
  {
   "cell_type": "code",
   "execution_count": null,
   "id": "d7832b38",
   "metadata": {},
   "outputs": [],
   "source": [
    "field_id = 'Duration of strenuous sports-2.0'\n",
    "data_df[field_id] = pd.to_numeric(data_df[field_id],errors='coerce')\n",
    "data_df.loc[data_df[field_id].isna(),field_id]=0 # NA means doesn't do so answer is 0\n",
    "data_df.loc[data_df[field_id]==-1,field_id]=pd.NA\n",
    "data_df.loc[data_df[field_id]==-3,field_id]=pd.NA\n",
    "remove_outliers(data_df,field_id,limit=1000,greater=True)\n",
    "plot_hist(data_df=data_df, field_id=field_id)"
   ]
  },
  {
   "cell_type": "code",
   "execution_count": null,
   "id": "0668bb9b",
   "metadata": {},
   "outputs": [],
   "source": [
    "field_id = 'Duration of light DIY-2.0'\n",
    "data_df[field_id] = pd.to_numeric(data_df[field_id],errors='coerce')\n",
    "data_df.loc[data_df[field_id].isna(),field_id]=0 # NA means doesn't do so answer is 0\n",
    "data_df.loc[data_df[field_id]==-1,field_id]=pd.NA\n",
    "data_df.loc[data_df[field_id]==-3,field_id]=pd.NA\n",
    "plot_hist(data_df=data_df, field_id=field_id)"
   ]
  },
  {
   "cell_type": "code",
   "execution_count": null,
   "id": "17b6b0dc",
   "metadata": {},
   "outputs": [],
   "source": [
    "field_id = 'Time spent watching television (TV)-2.0'\n",
    "data_df[field_id] = pd.to_numeric(data_df[field_id],errors='coerce')\n",
    "data_df.loc[data_df[field_id].isna(),field_id]=0 # NA means doesn't do so answer is 0\n",
    "data_df.loc[data_df[field_id]==-1,field_id]=pd.NA\n",
    "data_df.loc[data_df[field_id]==-3,field_id]=pd.NA\n",
    "data_df.loc[data_df[field_id]==-10,field_id]=0 # -10 means less than half hour\n",
    "plot_hist(data_df=data_df, field_id=field_id)"
   ]
  },
  {
   "cell_type": "code",
   "execution_count": null,
   "id": "b90eadb9",
   "metadata": {},
   "outputs": [],
   "source": [
    "field_id = 'Time spent using computer-2.0'\n",
    "data_df[field_id] = pd.to_numeric(data_df[field_id],errors='coerce')\n",
    "data_df.loc[data_df[field_id].isna(),field_id]=0 # NA means doesn't do so answer is 0\n",
    "data_df.loc[data_df[field_id]==-1,field_id]=pd.NA\n",
    "data_df.loc[data_df[field_id]==-3,field_id]=pd.NA\n",
    "data_df.loc[data_df[field_id]==-10,field_id]=0\n",
    "plot_hist(data_df=data_df, field_id=field_id)"
   ]
  },
  {
   "cell_type": "code",
   "execution_count": null,
   "id": "6a00e478",
   "metadata": {},
   "outputs": [],
   "source": [
    "field_id = 'Time spent driving-2.0'\n",
    "data_df[field_id] = pd.to_numeric(data_df[field_id],errors='coerce')\n",
    "data_df.loc[data_df[field_id].isna(),field_id]=0 # NA means doesn't do so answer is 0\n",
    "data_df.loc[data_df[field_id]==-1,field_id]=pd.NA\n",
    "data_df.loc[data_df[field_id]==-3,field_id]=pd.NA\n",
    "data_df.loc[data_df[field_id]==-10,field_id]=0\n",
    "plot_hist(data_df=data_df, field_id=field_id)"
   ]
  },
  {
   "cell_type": "code",
   "execution_count": null,
   "id": "ea5d4454",
   "metadata": {},
   "outputs": [],
   "source": [
    "field_id = 'Frequency of heavy DIY in last 4 weeks-2.0'\n",
    "data_df[field_id] = pd.to_numeric(data_df[field_id],errors='coerce')\n",
    "data_df.loc[data_df[field_id].isna(),field_id]=0 # NA means doesn't do so answer is 0\n",
    "data_df.loc[data_df[field_id]==-1,field_id]=pd.NA\n",
    "data_df.loc[data_df[field_id]==-3,field_id]=pd.NA\n",
    "plot_hist(data_df=data_df, field_id=field_id)"
   ]
  },
  {
   "cell_type": "code",
   "execution_count": null,
   "id": "79a2e6f1",
   "metadata": {},
   "outputs": [],
   "source": [
    "field_id = 'Duration of heavy DIY-2.0'\n",
    "data_df[field_id] = pd.to_numeric(data_df[field_id],errors='coerce')\n",
    "data_df.loc[data_df[field_id].isna(),field_id]=0 # NA means doesn't do so answer is 0\n",
    "data_df.loc[data_df[field_id]==-1,field_id]=pd.NA\n",
    "data_df.loc[data_df[field_id]==-3,field_id]=pd.NA\n",
    "remove_outliers(data_df,field_id,limit=1000,greater=True)\n",
    "plot_hist(data_df=data_df, field_id=field_id)"
   ]
  },
  {
   "cell_type": "code",
   "execution_count": null,
   "id": "901dd7df",
   "metadata": {},
   "outputs": [],
   "source": [
    "field_id = 'Frequency of other exercises in last 4 weeks-2.0'\n",
    "data_df[field_id] = pd.to_numeric(data_df[field_id],errors='coerce')\n",
    "data_df.loc[data_df[field_id].isna(),field_id]=0 # NA means doesn't do so answer is 0\n",
    "data_df.loc[data_df[field_id]==-1,field_id]=pd.NA\n",
    "data_df.loc[data_df[field_id]==-3,field_id]=pd.NA\n",
    "plot_hist(data_df=data_df, field_id=field_id)"
   ]
  },
  {
   "cell_type": "code",
   "execution_count": null,
   "id": "e501e042",
   "metadata": {},
   "outputs": [],
   "source": [
    "field_id = 'Duration of other exercises-2.0'\n",
    "data_df[field_id] = pd.to_numeric(data_df[field_id],errors='coerce')\n",
    "data_df.loc[data_df[field_id].isna(),field_id]=0 # NA means doesn't do so answer is 0\n",
    "data_df.loc[data_df[field_id]==-1,field_id]=pd.NA\n",
    "data_df.loc[data_df[field_id]==-3,field_id]=pd.NA\n",
    "remove_outliers(data_df,field_id,limit=1000,greater=True)\n",
    "plot_hist(data_df=data_df, field_id=field_id)"
   ]
  },
  {
   "cell_type": "code",
   "execution_count": null,
   "id": "74588433",
   "metadata": {},
   "outputs": [],
   "source": [
    "option_array_size=5\n",
    "for i in range(4):\n",
    "  field_id = f'Types of physical activity in last 4 weeks-2.{i}'\n",
    "  data_df[field_id] = pd.to_numeric(data_df[field_id],errors='coerce')\n",
    "  data_df.loc[data_df[field_id]==-1,field_id]=pd.NA\n",
    "  data_df.loc[data_df[field_id]==-3,field_id]=pd.NA"
   ]
  },
  {
   "cell_type": "code",
   "execution_count": null,
   "id": "5f457e98",
   "metadata": {},
   "outputs": [],
   "source": [
    "field_name='Types of physical activity in last 4 weeks'\n",
    "\n",
    "data_df['Walking for pleasure-2.0'] = check_answer_single_visit(data_df=data_df, answer=1, visit=2, field_name=field_name, option_array_size=option_array_size)\n",
    "\n",
    "plot_hist(data_df=data_df, field_id='Walking for pleasure-2.0')"
   ]
  },
  {
   "cell_type": "code",
   "execution_count": null,
   "id": "b55bf603",
   "metadata": {},
   "outputs": [],
   "source": [
    "field_name='Types of physical activity in last 4 weeks'\n",
    "\n",
    "data_df['Other exercises-2.0'] = check_answer_single_visit(data_df=data_df, answer=2, visit=2, field_name=field_name, option_array_size=option_array_size)\n",
    "\n",
    "plot_hist(data_df=data_df, field_id='Other exercises-2.0')"
   ]
  },
  {
   "cell_type": "code",
   "execution_count": null,
   "id": "d3d6ca51",
   "metadata": {},
   "outputs": [],
   "source": [
    "field_name='Types of physical activity in last 4 weeks'\n",
    "\n",
    "data_df['Strenuous sports-2.0'] = check_answer_single_visit(data_df=data_df, answer=3, visit=2, field_name=field_name, option_array_size=option_array_size)\n",
    "\n",
    "plot_hist(data_df=data_df, field_id='Strenuous sports-2.0')"
   ]
  },
  {
   "cell_type": "code",
   "execution_count": null,
   "id": "749de696",
   "metadata": {},
   "outputs": [],
   "source": [
    "field_name='Types of physical activity in last 4 weeks'\n",
    "\n",
    "data_df['Light DIY-2.0'] = check_answer_single_visit(data_df=data_df, answer=4, visit=2, field_name=field_name, option_array_size=option_array_size)\n",
    "\n",
    "plot_hist(data_df=data_df, field_id='Light DIY-2.0')"
   ]
  },
  {
   "cell_type": "code",
   "execution_count": null,
   "id": "ae4a2da9",
   "metadata": {},
   "outputs": [],
   "source": [
    "field_name='Types of physical activity in last 4 weeks'\n",
    "\n",
    "data_df['Heavy DIY-2.0'] = check_answer_single_visit(data_df=data_df, answer=5, visit=2, field_name=field_name, option_array_size=option_array_size)\n",
    "\n",
    "plot_hist(data_df=data_df, field_id='Heavy DIY-2.0')"
   ]
  },
  {
   "cell_type": "code",
   "execution_count": null,
   "id": "1d51f506",
   "metadata": {},
   "outputs": [],
   "source": [
    "field_name='Types of physical activity in last 4 weeks'\n",
    "\n",
    "data_df['No physical activity-2.0'] = check_answer_single_visit(data_df=data_df, answer=-7, visit=2, field_name=field_name, option_array_size=option_array_size)\n",
    "\n",
    "plot_hist(data_df=data_df, field_id='No physical activity-2.0')"
   ]
  },
  {
   "cell_type": "code",
   "execution_count": null,
   "id": "392554f6",
   "metadata": {},
   "outputs": [],
   "source": [
    "field_id = 'Systolic brachial blood pressure-2.0'\n",
    "remove_outliers(data_df,field_id,limit=1,greater=False)\n",
    "data_df[field_id] = pd.to_numeric(data_df[field_id],errors='coerce')\n",
    "plot_hist(data_df=data_df, field_id=field_id)"
   ]
  },
  {
   "cell_type": "code",
   "execution_count": null,
   "id": "755a8766",
   "metadata": {},
   "outputs": [],
   "source": [
    "field_id = 'Diastolic brachial blood pressure-2.0'\n",
    "remove_outliers(data_df,field_id,limit=1,greater=False)\n",
    "data_df[field_id] = pd.to_numeric(data_df[field_id],errors='coerce')\n",
    "plot_hist(data_df=data_df, field_id=field_id)"
   ]
  },
  {
   "cell_type": "code",
   "execution_count": null,
   "id": "cb47fdef",
   "metadata": {},
   "outputs": [],
   "source": [
    "fields = [\"Heart rate during PWA\",\"Systolic brachial blood pressure during PWA\",\"Diastolic brachial blood pressure during PWA\",\"Peripheral pulse pressure during PWA\",\"Central systolic blood pressure during PWA\",\"Central pulse pressure during PWA\",\"Number of beats in waveform average for PWA\",\"Central augmentation pressure during PWA\",\"Augmentation index for PWA\",\"Cardiac output during PWA\",\"End systolic pressure during PWA\",\"End systolic pressure index during PWA\",\"Total peripheral resistance during PWA\",\"Stroke volume during PWA\",\"Mean arterial pressure during PWA\",\"Cardiac index during PWA\"]\n",
    "for field in fields:\n",
    "  field_id = f'{field}-2.0'\n",
    "  data_df[field_id] = pd.to_numeric(data_df[field_id],errors='coerce')\n",
    "  #plt.figure()\n",
    "  #plot_hist(data_df=data_df, field_id=field_id)"
   ]
  },
  {
   "cell_type": "code",
   "execution_count": null,
   "id": "5051aa74",
   "metadata": {},
   "outputs": [],
   "source": [
    "field_id = 'Sleep duration-2.0'\n",
    "data_df[field_id] = pd.to_numeric(data_df[field_id],errors='coerce')\n",
    "data_df.loc[data_df[field_id]==-1,field_id]=pd.NA\n",
    "data_df.loc[data_df[field_id]==-3,field_id]=pd.NA\n",
    "plot_hist(data_df=data_df, field_id=field_id)"
   ]
  },
  {
   "cell_type": "code",
   "execution_count": null,
   "id": "a0125469",
   "metadata": {},
   "outputs": [],
   "source": [
    "field_id = 'Sleeplessness / insomnia-2.0'\n",
    "data_df[field_id] = pd.to_numeric(data_df[field_id],errors='coerce')\n",
    "data_df.loc[data_df[field_id]==-1,field_id]=pd.NA\n",
    "data_df.loc[data_df[field_id]==-3,field_id]=pd.NA\n",
    "plot_hist(data_df=data_df, field_id=field_id)"
   ]
  },
  {
   "cell_type": "code",
   "execution_count": null,
   "id": "eebf7c40",
   "metadata": {},
   "outputs": [],
   "source": [
    "field_id = 'Current tobacco smoking-2.0'\n",
    "data_df[field_id] = pd.to_numeric(data_df[field_id],errors='coerce')\n",
    "data_df.loc[data_df[field_id]==-1,field_id]=pd.NA\n",
    "data_df.loc[data_df[field_id]==-3,field_id]=pd.NA\n",
    "plot_hist(data_df=data_df, field_id=field_id)"
   ]
  },
  {
   "cell_type": "code",
   "execution_count": null,
   "id": "f5ab88b3",
   "metadata": {},
   "outputs": [],
   "source": [
    "field_id = 'Past tobacco smoking-2.0'\n",
    "data_df[field_id] = pd.to_numeric(data_df[field_id],errors='coerce')\n",
    "data_df.loc[data_df[field_id].isna(),field_id]=1 # If NA, indicated that they are currently smoking so assign to all day smoker category?\n",
    "data_df.loc[data_df[field_id]==-1,field_id]=pd.NA\n",
    "data_df.loc[data_df[field_id]==-3,field_id]=pd.NA\n",
    "plot_hist(data_df=data_df, field_id=field_id)"
   ]
  },
  {
   "cell_type": "code",
   "execution_count": null,
   "id": "c149a29b",
   "metadata": {},
   "outputs": [],
   "source": [
    "field_id = 'Smoking/smokers in household-2.0'\n",
    "data_df[field_id] = pd.to_numeric(data_df[field_id],errors='coerce')\n",
    "data_df.loc[data_df[field_id].isna(),field_id]=1 # If NA, indicated that they are currently smoking so assign to on smoker in household\n",
    "data_df.loc[data_df[field_id]==-1,field_id]=pd.NA\n",
    "data_df.loc[data_df[field_id]==-3,field_id]=pd.NA\n",
    "plot_hist(data_df=data_df, field_id=field_id)"
   ]
  },
  {
   "cell_type": "code",
   "execution_count": null,
   "id": "cd72a9a9",
   "metadata": {},
   "outputs": [],
   "source": [
    "field_id = 'Exposure to tobacco smoke at home-2.0'\n",
    "data_df[field_id] = pd.to_numeric(data_df[field_id],errors='coerce')\n",
    "data_df.loc[data_df[field_id].isna(),field_id]=7 # If NA, indicated that they are currently smoking so say 7 hours of tabacco smoke per week outside home\n",
    "data_df.loc[data_df[field_id]==-1,field_id]=pd.NA\n",
    "data_df.loc[data_df[field_id]==-3,field_id]=pd.NA\n",
    "remove_outliers(data_df, field_id, limit=50, greater=True)\n",
    "plot_hist(data_df=data_df, field_id=field_id)"
   ]
  },
  {
   "cell_type": "code",
   "execution_count": null,
   "id": "c91fafc6",
   "metadata": {},
   "outputs": [],
   "source": [
    "field_id = 'Exposure to tobacco smoke outside home-2.0'\n",
    "data_df[field_id] = pd.to_numeric(data_df[field_id],errors='coerce')\n",
    "data_df.loc[data_df[field_id].isna(),field_id]=7 # If NA, indicated that they are currently smoking so say 7 hours of tabacco smoke per week outside home\n",
    "data_df.loc[data_df[field_id]==-1,field_id]=pd.NA\n",
    "data_df.loc[data_df[field_id]==-3,field_id]=pd.NA\n",
    "remove_outliers(data_df, field_id, limit=50, greater=True)\n",
    "plot_hist(data_df=data_df, field_id=field_id)"
   ]
  },
  {
   "cell_type": "code",
   "execution_count": null,
   "id": "7b0f3705",
   "metadata": {},
   "outputs": [],
   "source": [
    "field_id = 'Smoking status-2.0'\n",
    "data_df[field_id] = pd.to_numeric(data_df[field_id],errors='coerce')\n",
    "data_df.loc[data_df[field_id]==-1,field_id]=pd.NA\n",
    "data_df.loc[data_df[field_id]==-3,field_id]=pd.NA\n",
    "plot_hist(data_df=data_df, field_id=field_id)"
   ]
  },
  {
   "cell_type": "code",
   "execution_count": null,
   "id": "f56923e7",
   "metadata": {},
   "outputs": [],
   "source": [
    "field_id = 'Pack years of smoking-2.0'\n",
    "data_df[field_id] = pd.to_numeric(data_df[field_id],errors='coerce')\n",
    "data_df.loc[data_df[field_id].isna(),field_id]=0 # Only asked to those that smoke, so non-smokers get value 0\n",
    "plot_hist(data_df=data_df, field_id=field_id)"
   ]
  },
  {
   "cell_type": "code",
   "execution_count": null,
   "id": "86b43c4d",
   "metadata": {},
   "outputs": [],
   "source": [
    "field_id = 'Pack years adult smoking as proportion of life span exposed to smoking-2.0'\n",
    "data_df[field_id] = pd.to_numeric(data_df[field_id],errors='coerce')\n",
    "data_df.loc[data_df[field_id].isna(),field_id]=0 # Only asked to those that smoke, so non-smokers get value 0\n",
    "plot_hist(data_df=data_df, field_id=field_id)"
   ]
  },
  {
   "cell_type": "code",
   "execution_count": null,
   "id": "4ae50ce4",
   "metadata": {},
   "outputs": [],
   "source": [
    "field_id = 'Ever smoked-2.0'\n",
    "data_df[field_id] = pd.to_numeric(data_df[field_id],errors='coerce')\n",
    "plot_hist(data_df=data_df, field_id=field_id)"
   ]
  },
  {
   "cell_type": "code",
   "execution_count": null,
   "id": "8229b21a",
   "metadata": {},
   "outputs": [],
   "source": [
    "field_id=\"Date of stroke-0.0\"\n",
    "data_df[field_id] = pd.to_datetime(data_df[field_id],errors='coerce')\n",
    "plot_hist(data_df,field_id)\n",
    "\n",
    "diag_id = 'Stroke diagnosed by doctor'\n",
    "update_through_age(data_df=data_df, diag_id=diag_id, age_id=field_id)"
   ]
  },
  {
   "cell_type": "code",
   "execution_count": null,
   "id": "c90eecdb",
   "metadata": {},
   "outputs": [],
   "source": [
    "field_id=\"Date of ischaemic stroke-0.0\"\n",
    "data_df[field_id] = pd.to_datetime(data_df[field_id],errors='coerce')\n",
    "plot_hist(data_df,field_id)\n",
    "\n",
    "diag_id = 'Stroke diagnosed by doctor'\n",
    "update_through_age(data_df=data_df, diag_id=diag_id, age_id=field_id)"
   ]
  },
  {
   "cell_type": "code",
   "execution_count": null,
   "id": "28cf124e",
   "metadata": {},
   "outputs": [],
   "source": [
    "field_id=\"Date of intracerebral haemorrhage-0.0\"\n",
    "data_df[field_id] = pd.to_datetime(data_df[field_id],errors='coerce')\n",
    "plot_hist(data_df,field_id)\n",
    "\n",
    "diag_id = 'Stroke diagnosed by doctor'\n",
    "update_through_age(data_df=data_df, diag_id=diag_id, age_id=field_id)"
   ]
  },
  {
   "cell_type": "code",
   "execution_count": null,
   "id": "80e02099",
   "metadata": {},
   "outputs": [],
   "source": [
    "field_id=\"Date of subarachnoid haemorrhage-0.0\"\n",
    "data_df[field_id] = pd.to_datetime(data_df[field_id],errors='coerce')\n",
    "plot_hist(data_df,field_id)\n",
    "\n",
    "diag_id = 'Stroke diagnosed by doctor'\n",
    "update_through_age(data_df=data_df, diag_id=diag_id, age_id=field_id)"
   ]
  },
  {
   "cell_type": "code",
   "execution_count": null,
   "id": "d9a38677",
   "metadata": {},
   "outputs": [],
   "source": [
    "field_id = 'Age when attended assessment centre-2.0'\n",
    "data_df[field_id] = pd.to_numeric(data_df[field_id],errors='coerce')\n",
    "plot_hist(data_df=data_df, field_id=field_id)"
   ]
  },
  {
   "cell_type": "code",
   "execution_count": null,
   "id": "ba7830df",
   "metadata": {},
   "outputs": [],
   "source": [
    "field_id = 'Alcohol usually taken with meals-2.0'\n",
    "data_df[field_id] = pd.to_numeric(data_df[field_id],errors='coerce')\n",
    "data_df.loc[data_df[field_id].isna(),field_id]=0 # NA means doesn't do so answer is 0\n",
    "data_df.loc[data_df[field_id]==-1,field_id]=pd.NA\n",
    "data_df.loc[data_df[field_id]==-3,field_id]=pd.NA\n",
    "data_df.loc[data_df[field_id]==-6,field_id]=2 # -6 means it varies so assign to 2\n",
    "plot_hist(data_df=data_df, field_id=field_id)"
   ]
  },
  {
   "cell_type": "code",
   "execution_count": null,
   "id": "91d2c846",
   "metadata": {},
   "outputs": [],
   "source": [
    "field_id = 'Alcohol drinker status-2.0'\n",
    "data_df[field_id] = pd.to_numeric(data_df[field_id],errors='coerce')\n",
    "#data_df.loc[data_df[field_id].isna(),field_id]=0 # NA means doesn't do so answer is 0\n",
    "#data_df.loc[data_df[field_id]==-1,field_id]=pd.NA\n",
    "#data_df.loc[data_df[field_id]==-3,field_id]=pd.NA\n",
    "plot_hist(data_df=data_df, field_id=field_id)"
   ]
  },
  {
   "cell_type": "code",
   "execution_count": null,
   "id": "d3692104",
   "metadata": {},
   "outputs": [],
   "source": [
    "field_id = 'Frequency of drinking alcohol-0.0'\n",
    "data_df[field_id] = pd.to_numeric(data_df[field_id],errors='coerce')\n",
    "#data_df.loc[data_df[field_id].isna(),field_id]=0 # NA means doesn't do so answer is 0\n",
    "#data_df.loc[data_df[field_id]==-1,field_id]=pd.NA\n",
    "data_df.loc[data_df[field_id]<0,field_id]=pd.NA\n",
    "plot_hist(data_df=data_df, field_id=field_id)"
   ]
  },
  {
   "cell_type": "code",
   "execution_count": null,
   "id": "6581d651",
   "metadata": {},
   "outputs": [],
   "source": [
    "field_id = 'Frequency of consuming six or more units of alcohol-0.0'\n",
    "data_df[field_id] = pd.to_numeric(data_df[field_id],errors='coerce')\n",
    "#data_df.loc[data_df[field_id].isna(),field_id]=0 # NA means doesn't do so answer is 0\n",
    "#data_df.loc[data_df[field_id]==-1,field_id]=pd.NA\n",
    "data_df.loc[data_df[field_id]<0,field_id]=pd.NA\n",
    "plot_hist(data_df=data_df, field_id=field_id)"
   ]
  },
  {
   "cell_type": "code",
   "execution_count": null,
   "id": "53039475",
   "metadata": {},
   "outputs": [],
   "source": [
    "field_id = 'Amount of alcohol drunk on a typical drinking day-0.0'\n",
    "data_df[field_id] = pd.to_numeric(data_df[field_id],errors='coerce')\n",
    "#data_df.loc[data_df[field_id].isna(),field_id]=0 # NA means doesn't do so answer is 0\n",
    "#data_df.loc[data_df[field_id]==-1,field_id]=pd.NA\n",
    "data_df.loc[data_df[field_id]<0,field_id]=pd.NA\n",
    "plot_hist(data_df=data_df, field_id=field_id)"
   ]
  },
  {
   "cell_type": "code",
   "execution_count": null,
   "id": "b594d72e",
   "metadata": {},
   "outputs": [],
   "source": [
    "field_id = 'Falls in the last year-2.0'\n",
    "data_df[field_id] = pd.to_numeric(data_df[field_id],errors='coerce')\n",
    "#data_df.loc[data_df[field_id].isna(),field_id]=0 # NA means doesn't do so answer is 0\n",
    "#data_df.loc[data_df[field_id]==-1,field_id]=pd.NA\n",
    "data_df.loc[data_df[field_id]<0,field_id]=pd.NA\n",
    "plot_hist(data_df=data_df, field_id=field_id)"
   ]
  },
  {
   "cell_type": "code",
   "execution_count": null,
   "id": "fd22f551",
   "metadata": {},
   "outputs": [],
   "source": [
    "field_id = 'Weight change compared with 1 year ago-2.0'\n",
    "data_df[field_id] = pd.to_numeric(data_df[field_id],errors='coerce')\n",
    "#data_df.loc[data_df[field_id].isna(),field_id]=0 # NA means doesn't do so answer is 0\n",
    "#data_df.loc[data_df[field_id]==-1,field_id]=pd.NA\n",
    "data_df.loc[data_df[field_id]<0,field_id]=pd.NA\n",
    "plot_hist(data_df=data_df, field_id=field_id)"
   ]
  },
  {
   "cell_type": "code",
   "execution_count": null,
   "id": "5557c693",
   "metadata": {},
   "outputs": [],
   "source": [
    "original_feature_vector_df = pd.read_csv(join(BASE_PATH,'original_cardiac_feature_vector_labeled.csv'))\n",
    "original_feature_vector_df['eid_old'] = original_feature_vector_df['eid'].astype(int)\n",
    "data_df=pd.merge(data_df,original_feature_vector_df[['eid','LVEDV (mL)','LVESV (mL)','LVSV (mL)','LVEF (%)','LVCO (L/min)','LVM (g)','RVEDV (mL)','RVESV (mL)','RVSV (mL)','RVEF (%)']],left_on='eid_old',right_on='eid')\n",
    "data_df.drop('eid_y',axis=1,inplace=True)\n",
    "data_df.rename(columns={'eid_x':'eid'},inplace=True)"
   ]
  },
  {
   "cell_type": "markdown",
   "id": "d6e06a9b-03b6-4bf2-9a2d-78d7f228578d",
   "metadata": {},
   "source": [
    "## Save Cleaned Features"
   ]
  },
  {
   "cell_type": "code",
   "execution_count": null,
   "id": "b12e0737-38f9-4e64-876f-9ae30eb04f00",
   "metadata": {},
   "outputs": [],
   "source": [
    "cleaned_features_path = join(BASE_PATH,'cardiac_features_668815_clean.csv')\n",
    "\n",
    "if SAVE:\n",
    "  data_df.to_csv(cleaned_features_path,index=False)\n",
    "else:\n",
    "  data_df = pd.read_csv(cleaned_features_path)"
   ]
  },
  {
   "cell_type": "code",
   "execution_count": null,
   "id": "3496f1c2-84d4-44c3-a3e7-3d66c0ea6bf9",
   "metadata": {},
   "outputs": [],
   "source": [
    "print(len(data_df))\n",
    "data_df.drop(data_df[data_df['Ethnic background-0.0']!=1001].index, inplace=True)\n",
    "print(len(data_df))"
   ]
  },
  {
   "cell_type": "markdown",
   "id": "9903b466-1883-4727-97b1-296680f7463a",
   "metadata": {},
   "source": [
    "## Convert Dataframe to Vector"
   ]
  },
  {
   "cell_type": "code",
   "execution_count": null,
   "id": "bfd1eb80",
   "metadata": {},
   "outputs": [],
   "source": [
    "def cardiac_features_to_vector_df(df):\n",
    "  vec = []\n",
    "  vec.append(df['eid'])\n",
    "  vec.append(df['eid_old'])\n",
    "  vec.append(df['Pulse wave Arterial Stiffness index-2.0'])\n",
    "  vec.append(df['Systolic blood pressure-2.mean'])\n",
    "  vec.append(df['Diastolic blood pressure-2.mean'])\n",
    "  vec.append(df['Pulse rate-2.mean'])\n",
    "  vec.append(df['Body fat percentage-2.0'])\n",
    "  vec.append(df['Whole body fat mass-2.0'])\n",
    "  vec.append(df['Whole body fat-free mass-2.0'])\n",
    "  vec.append(df['Whole body water mass-2.0'])\n",
    "  vec.append(df['Body mass index (BMI)-2.0'])\n",
    "  vec.append(df['Cooked vegetable intake-2.0'])\n",
    "  vec.append(df['Salad / raw vegetable intake-2.0'])\n",
    "  vec.append(df['Cardiac operations performed'])\n",
    "  vec.append(df['Total mass-2.0'])\n",
    "  vec.append(df['Basal metabolic rate-2.0'])\n",
    "  vec.append(df['Impedance of whole body-2.0'])\n",
    "  vec.append(df['Waist circumference-2.0'])\n",
    "  vec.append(df['Hip circumference-2.0'])\n",
    "  vec.append(df['Standing height-2.0'])\n",
    "  vec.append(df['Height-2.0'])\n",
    "  vec.append(df['Sitting height-2.0'])\n",
    "  vec.append(df['Weight-2.0'])\n",
    "  vec.append(df['Ventricular rate-2.0'])\n",
    "  vec.append(df['P duration-2.0'])\n",
    "  vec.append(df['QRS duration-2.0'])\n",
    "  vec.append(df['PQ interval-2.0'])\n",
    "  vec.append(df['RR interval-2.0'])\n",
    "  vec.append(df['PP interval-2.0'])\n",
    "  vec.append(df['Cardiac output-2.0'])\n",
    "  vec.append(df['Cardiac index-2.0'])\n",
    "  vec.append(df['Average heart rate-2.0'])\n",
    "  vec.append(df['Body surface area-2.0'])\n",
    "  vec.append(df['Duration of walks-2.0'])\n",
    "  vec.append(df['Duration of moderate activity-2.0'])\n",
    "  vec.append(df['Duration of vigorous activity-2.0'])\n",
    "  vec.append(df['Time spent watching television (TV)-2.0'])\n",
    "  vec.append(df['Time spent using computer-2.0'])\n",
    "  vec.append(df['Time spent driving-2.0'])\n",
    "  vec.append(df['Heart rate during PWA-2.0'])\n",
    "  vec.append(df['Systolic brachial blood pressure during PWA-2.0'])\n",
    "  vec.append(df['Diastolic brachial blood pressure during PWA-2.0'])\n",
    "  vec.append(df['Peripheral pulse pressure during PWA-2.0'])\n",
    "  vec.append(df['Central systolic blood pressure during PWA-2.0'])\n",
    "  vec.append(df['Central pulse pressure during PWA-2.0'])\n",
    "  vec.append(df['Number of beats in waveform average for PWA-2.0'])\n",
    "  vec.append(df['Central augmentation pressure during PWA-2.0'])\n",
    "  vec.append(df['Augmentation index for PWA-2.0'])\n",
    "  vec.append(df['Cardiac output during PWA-2.0'])\n",
    "  vec.append(df['End systolic pressure during PWA-2.0'])\n",
    "  vec.append(df['End systolic pressure index during PWA-2.0'])\n",
    "  vec.append(df['Total peripheral resistance during PWA-2.0'])\n",
    "  vec.append(df['Stroke volume during PWA-2.0'])\n",
    "  vec.append(df['Mean arterial pressure during PWA-2.0'])\n",
    "  vec.append(df['Cardiac index during PWA-2.0'])\n",
    "  vec.append(df['Sleep duration-2.0'])\n",
    "  vec.append(df['Exposure to tobacco smoke at home-2.0'])\n",
    "  vec.append(df['Exposure to tobacco smoke outside home-2.0'])\n",
    "  vec.append(df['Pack years of smoking-2.0'])\n",
    "  vec.append(df['Pack years adult smoking as proportion of life span exposed to smoking-2.0'])\n",
    "  vec.append(df['LVEDV (mL)'])\n",
    "  vec.append(df['LVESV (mL)'])\n",
    "  vec.append(df['LVSV (mL)'])\n",
    "  vec.append(df['LVEF (%)'])\n",
    "  vec.append(df['LVCO (L/min)'])\n",
    "  vec.append(df['LVM (g)'])\n",
    "  vec.append(df['RVEDV (mL)'])\n",
    "  vec.append(df['RVESV (mL)'])\n",
    "  vec.append(df['RVSV (mL)'])\n",
    "  vec.append(df['RVEF (%)'])\n",
    "  \n",
    "  vec.append(df['Worrier / anxious feelings-2.0'].apply(clean_categorical))\n",
    "  vec.append(df['Shortness of breath walking on level ground-2.0'].apply(clean_categorical))\n",
    "  vec.append(df['Sex-0.0'].apply(clean_categorical))\n",
    "  vec.append(df['Diabetes diagnosis'].apply(clean_categorical))\n",
    "  vec.append(df['Heart attack diagnosed by doctor'].apply(clean_categorical))\n",
    "  vec.append(df['Angina diagnosed by doctor'].apply(clean_categorical))\n",
    "  vec.append(df['Stroke diagnosed by doctor'].apply(clean_categorical))\n",
    "  vec.append(df['High blood pressure diagnosed by doctor'].apply(clean_categorical))\n",
    "  vec.append(df['Cholesterol lowering medication regularly taken'].apply(clean_categorical))\n",
    "  vec.append(df['Blood pressure medication regularly taken'].apply(clean_categorical))\n",
    "  vec.append(df['Insulin medication regularly taken'].apply(clean_categorical))\n",
    "  vec.append(df['Hormone replacement therapy medication regularly taken'].apply(clean_categorical))\n",
    "  vec.append(df['Oral contraceptive pill or minipill medication regularly taken'].apply(clean_categorical))\n",
    "  vec.append(df['Pace-maker-2.0'].apply(clean_categorical))\n",
    "  vec.append(df['Ever had diabetes (Type I or Type II)-0.0'].apply(clean_categorical))\n",
    "  vec.append(df['Long-standing illness, disability or infirmity-2.0'].apply(clean_categorical))\n",
    "  vec.append(df['Tense / \\'highly strung\\'-2.0'].apply(clean_categorical))\n",
    "  vec.append(df['Ever smoked-2.0'].apply(clean_categorical))\n",
    "\n",
    "  vec.append(df['Sleeplessness / insomnia-2.0'].apply(lambda col: one_hot_encode(value=col, num_classes=3, one_based=True)))\n",
    "  vec.append(df['Frequency of heavy DIY in last 4 weeks-2.0'].apply(lambda col: one_hot_encode(value=col, num_classes=7)))\n",
    "  vec.append(df['Alcohol intake frequency.-2.0'].apply(lambda col: one_hot_encode(value=col, num_classes=6, one_based=True)))\n",
    "  vec.append(df['Processed meat intake-2.0'].apply(lambda col: one_hot_encode(value=col, num_classes=6)))\n",
    "  vec.append(df['Beef intake-2.0'].apply(lambda col: one_hot_encode(value=col, num_classes=6)))\n",
    "  vec.append(df['Pork intake-2.0'].apply(lambda col: one_hot_encode(value=col, num_classes=6)))\n",
    "  vec.append(df['Lamb/mutton intake-2.0'].apply(lambda col: one_hot_encode(value=col, num_classes=6)))\n",
    "  vec.append(df['Overall health rating-2.0'].apply(lambda col: one_hot_encode(value=col, num_classes=4, one_based=True)))\n",
    "  vec.append(df['Alcohol usually taken with meals-2.0'].apply(lambda col: one_hot_encode(value=col, num_classes=3)))\n",
    "  vec.append(df['Alcohol drinker status-2.0'].apply(lambda col: one_hot_encode(value=col, num_classes=3)))\n",
    "  vec.append(df['Frequency of drinking alcohol-0.0'].apply(lambda col: one_hot_encode(value=col, num_classes=5)))\n",
    "  vec.append(df['Frequency of consuming six or more units of alcohol-0.0'].apply(lambda col: one_hot_encode(value=col, num_classes=5, one_based=True)))\n",
    "  vec.append(df['Amount of alcohol drunk on a typical drinking day-0.0'].apply(lambda col: one_hot_encode(value=col, num_classes=6)))\n",
    "  vec.append(df['Falls in the last year-2.0'].apply(lambda col: one_hot_encode(value=col, num_classes=3, one_based=True)))\n",
    "  vec.append(df['Weight change compared with 1 year ago-2.0'].apply(lambda col: one_hot_encode(value=col, num_classes=3)))\n",
    "  vec.append(df['Number of days/week walked 10+ minutes-2.0'].apply(lambda col: one_hot_encode(value=col, num_classes=8)))\n",
    "  vec.append(df['Number of days/week of moderate physical activity 10+ minutes-2.0'].apply(lambda col: one_hot_encode(value=col, num_classes=8)))\n",
    "  vec.append(df['Number of days/week of vigorous physical activity 10+ minutes-2.0'].apply(lambda col: one_hot_encode(value=col, num_classes=8)))\n",
    "  vec.append(df['Usual walking pace-2.0'].apply(lambda col: one_hot_encode(value=col, num_classes=3, one_based=True)))\n",
    "  vec.append(df['Frequency of stair climbing in last 4 weeks-2.0'].apply(lambda col: one_hot_encode(value=col, num_classes=6)))\n",
    "  vec.append(df['Frequency of walking for pleasure in last 4 weeks-2.0'].apply(lambda col: one_hot_encode(value=col, num_classes=7)))\n",
    "  vec.append(df['Duration walking for pleasure-2.0'].apply(lambda col: one_hot_encode(value=col, num_classes=8)))\n",
    "  vec.append(df['Frequency of strenuous sports in last 4 weeks-2.0'].apply(lambda col: one_hot_encode(value=col, num_classes=7)))\n",
    "  vec.append(df['Duration of strenuous sports-2.0'].apply(lambda col: one_hot_encode(value=col, num_classes=8)))\n",
    "  vec.append(df['Duration of light DIY-2.0'].apply(lambda col: one_hot_encode(value=col, num_classes=8)))\n",
    "  vec.append(df['Duration of heavy DIY-2.0'].apply(lambda col: one_hot_encode(value=col, num_classes=8)))\n",
    "  vec.append(df['Frequency of other exercises in last 4 weeks-2.0'].apply(lambda col: one_hot_encode(value=col, num_classes=7)))\n",
    "  vec.append(df['Duration of other exercises-2.0'].apply(lambda col: one_hot_encode(value=col, num_classes=8)))\n",
    "  vec.append(df['Current tobacco smoking-2.0'].apply(lambda col: one_hot_encode(value=col, num_classes=3)))\n",
    "  vec.append(df['Past tobacco smoking-2.0'].apply(lambda col: one_hot_encode(value=col, num_classes=4, one_based=True)))\n",
    "  vec.append(df['Smoking/smokers in household-2.0'].apply(lambda col: one_hot_encode(value=col, num_classes=3)))\n",
    "  vec.append(df['Smoking status-2.0'].apply(lambda col: one_hot_encode(value=col, num_classes=3)))\n",
    "  return vec"
   ]
  },
  {
   "cell_type": "code",
   "execution_count": null,
   "id": "830c42b7-a5b8-452c-b9d4-c53522bbd821",
   "metadata": {
    "tags": []
   },
   "outputs": [],
   "source": [
    "cardiac_features_encoding_df = cardiac_features_to_vector_df(data_df)\n",
    "cardiac_features_encoding_df = pd.concat(cardiac_features_encoding_df,axis=1)\n",
    "cardiac_features_encoding_df = cardiac_features_encoding_df.reset_index(drop=True)"
   ]
  },
  {
   "cell_type": "code",
   "execution_count": null,
   "id": "d4bd5217-fd5d-4c30-ae56-decabb18f91b",
   "metadata": {},
   "outputs": [],
   "source": [
    "cardiac_features_encoding_df = expand_list(cardiac_features_encoding_df, 'Alcohol intake frequency.-2.0')\n",
    "cardiac_features_encoding_df = expand_list(cardiac_features_encoding_df, 'Processed meat intake-2.0')\n",
    "cardiac_features_encoding_df = expand_list(cardiac_features_encoding_df, 'Beef intake-2.0')\n",
    "cardiac_features_encoding_df = expand_list(cardiac_features_encoding_df, 'Pork intake-2.0')\n",
    "cardiac_features_encoding_df = expand_list(cardiac_features_encoding_df, 'Lamb/mutton intake-2.0')\n",
    "cardiac_features_encoding_df = expand_list(cardiac_features_encoding_df, 'Overall health rating-2.0')\n",
    "cardiac_features_encoding_df = expand_list(cardiac_features_encoding_df, 'Alcohol usually taken with meals-2.0')\n",
    "cardiac_features_encoding_df = expand_list(cardiac_features_encoding_df, 'Alcohol drinker status-2.0')\n",
    "cardiac_features_encoding_df = expand_list(cardiac_features_encoding_df, 'Frequency of drinking alcohol-0.0')\n",
    "cardiac_features_encoding_df = expand_list(cardiac_features_encoding_df, 'Frequency of consuming six or more units of alcohol-0.0')\n",
    "cardiac_features_encoding_df = expand_list(cardiac_features_encoding_df, 'Amount of alcohol drunk on a typical drinking day-0.0')\n",
    "cardiac_features_encoding_df = expand_list(cardiac_features_encoding_df, 'Falls in the last year-2.0')\n",
    "cardiac_features_encoding_df = expand_list(cardiac_features_encoding_df, 'Weight change compared with 1 year ago-2.0')\n",
    "cardiac_features_encoding_df = expand_list(cardiac_features_encoding_df, 'Number of days/week walked 10+ minutes-2.0')\n",
    "cardiac_features_encoding_df = expand_list(cardiac_features_encoding_df, 'Number of days/week of moderate physical activity 10+ minutes-2.0')\n",
    "cardiac_features_encoding_df = expand_list(cardiac_features_encoding_df, 'Number of days/week of vigorous physical activity 10+ minutes-2.0')\n",
    "cardiac_features_encoding_df = expand_list(cardiac_features_encoding_df, 'Usual walking pace-2.0')\n",
    "cardiac_features_encoding_df = expand_list(cardiac_features_encoding_df, 'Frequency of stair climbing in last 4 weeks-2.0')\n",
    "cardiac_features_encoding_df = expand_list(cardiac_features_encoding_df, 'Frequency of walking for pleasure in last 4 weeks-2.0')\n",
    "cardiac_features_encoding_df = expand_list(cardiac_features_encoding_df, 'Duration walking for pleasure-2.0')\n",
    "cardiac_features_encoding_df = expand_list(cardiac_features_encoding_df, 'Frequency of strenuous sports in last 4 weeks-2.0')\n",
    "cardiac_features_encoding_df = expand_list(cardiac_features_encoding_df, 'Duration of strenuous sports-2.0')\n",
    "cardiac_features_encoding_df = expand_list(cardiac_features_encoding_df, 'Duration of light DIY-2.0')\n",
    "cardiac_features_encoding_df = expand_list(cardiac_features_encoding_df, 'Frequency of heavy DIY in last 4 weeks-2.0')\n",
    "cardiac_features_encoding_df = expand_list(cardiac_features_encoding_df, 'Duration of heavy DIY-2.0')\n",
    "cardiac_features_encoding_df = expand_list(cardiac_features_encoding_df, 'Frequency of other exercises in last 4 weeks-2.0')\n",
    "cardiac_features_encoding_df = expand_list(cardiac_features_encoding_df, 'Duration of other exercises-2.0')\n",
    "cardiac_features_encoding_df = expand_list(cardiac_features_encoding_df, 'Sleeplessness / insomnia-2.0')\n",
    "cardiac_features_encoding_df = expand_list(cardiac_features_encoding_df, 'Current tobacco smoking-2.0')\n",
    "cardiac_features_encoding_df = expand_list(cardiac_features_encoding_df, 'Past tobacco smoking-2.0')\n",
    "cardiac_features_encoding_df = expand_list(cardiac_features_encoding_df, 'Smoking/smokers in household-2.0')\n",
    "cardiac_features_encoding_df = expand_list(cardiac_features_encoding_df, 'Smoking status-2.0')"
   ]
  },
  {
   "cell_type": "code",
   "execution_count": null,
   "id": "9f81fb1e-1776-4cfc-b89f-3c9b2b653731",
   "metadata": {},
   "outputs": [],
   "source": [
    "\n",
    "if SAVE:\n",
    "    cardiac_features_encoding_df.to_csv(join(BASE_PATH,'cardiac_feature_668815_vector.csv'),index=False)\n",
    "else:\n",
    "    cardiac_features_encoding_df = pd.read_csv(join(BASE_PATH,'cardiac_feature_668815_vector.csv'))"
   ]
  },
  {
   "cell_type": "code",
   "execution_count": null,
   "id": "42fceb6f-cdac-4325-8813-c478e95d5abb",
   "metadata": {},
   "outputs": [],
   "source": [
    "assert(data_df.reset_index(drop=True)['eid']==cardiac_features_encoding_df['eid']).all()"
   ]
  },
  {
   "cell_type": "code",
   "execution_count": null,
   "id": "60da019b",
   "metadata": {},
   "outputs": [],
   "source": [
    "cardiac_features_encoding_df"
   ]
  },
  {
   "cell_type": "markdown",
   "id": "88cc56d5",
   "metadata": {},
   "source": [
    "# Convert Dataframe to Vector - No One-Hot"
   ]
  },
  {
   "cell_type": "code",
   "execution_count": null,
   "id": "159e7b65",
   "metadata": {},
   "outputs": [],
   "source": [
    "def cardiac_features_to_vector_no_onehot_df(df):\n",
    "  vec = []\n",
    "  vec.append(df['eid'])\n",
    "  vec.append(df['eid_old'])\n",
    "  vec.append(df['Pulse wave Arterial Stiffness index-2.0'])\n",
    "  vec.append(df['Systolic blood pressure-2.mean'])\n",
    "  vec.append(df['Diastolic blood pressure-2.mean'])\n",
    "  vec.append(df['Pulse rate-2.mean'])\n",
    "  vec.append(df['Body fat percentage-2.0'])\n",
    "  vec.append(df['Whole body fat mass-2.0'])\n",
    "  vec.append(df['Whole body fat-free mass-2.0'])\n",
    "  vec.append(df['Whole body water mass-2.0'])\n",
    "  vec.append(df['Body mass index (BMI)-2.0'])\n",
    "  vec.append(df['Cooked vegetable intake-2.0'])\n",
    "  vec.append(df['Salad / raw vegetable intake-2.0'])\n",
    "  vec.append(df['Cardiac operations performed'])\n",
    "  vec.append(df['Total mass-2.0'])\n",
    "  vec.append(df['Basal metabolic rate-2.0'])\n",
    "  vec.append(df['Impedance of whole body-2.0'])\n",
    "  vec.append(df['Waist circumference-2.0'])\n",
    "  vec.append(df['Hip circumference-2.0'])\n",
    "  vec.append(df['Standing height-2.0'])\n",
    "  vec.append(df['Height-2.0'])\n",
    "  vec.append(df['Sitting height-2.0'])\n",
    "  vec.append(df['Weight-2.0'])\n",
    "  vec.append(df['Ventricular rate-2.0'])\n",
    "  vec.append(df['P duration-2.0'])\n",
    "  vec.append(df['QRS duration-2.0'])\n",
    "  vec.append(df['PQ interval-2.0'])\n",
    "  vec.append(df['RR interval-2.0'])\n",
    "  vec.append(df['PP interval-2.0'])\n",
    "  vec.append(df['Cardiac output-2.0'])\n",
    "  vec.append(df['Cardiac index-2.0'])\n",
    "  vec.append(df['Average heart rate-2.0'])\n",
    "  vec.append(df['Body surface area-2.0'])\n",
    "  vec.append(df['Duration of walks-2.0'])\n",
    "  vec.append(df['Duration of moderate activity-2.0'])\n",
    "  vec.append(df['Duration of vigorous activity-2.0'])\n",
    "  vec.append(df['Time spent watching television (TV)-2.0'])\n",
    "  vec.append(df['Time spent using computer-2.0'])\n",
    "  vec.append(df['Time spent driving-2.0'])\n",
    "  vec.append(df['Heart rate during PWA-2.0'])\n",
    "  vec.append(df['Systolic brachial blood pressure during PWA-2.0'])\n",
    "  vec.append(df['Diastolic brachial blood pressure during PWA-2.0'])\n",
    "  vec.append(df['Peripheral pulse pressure during PWA-2.0'])\n",
    "  vec.append(df['Central systolic blood pressure during PWA-2.0'])\n",
    "  vec.append(df['Central pulse pressure during PWA-2.0'])\n",
    "  vec.append(df['Number of beats in waveform average for PWA-2.0'])\n",
    "  vec.append(df['Central augmentation pressure during PWA-2.0'])\n",
    "  vec.append(df['Augmentation index for PWA-2.0'])\n",
    "  vec.append(df['Cardiac output during PWA-2.0'])\n",
    "  vec.append(df['End systolic pressure during PWA-2.0'])\n",
    "  vec.append(df['End systolic pressure index during PWA-2.0'])\n",
    "  vec.append(df['Total peripheral resistance during PWA-2.0'])\n",
    "  vec.append(df['Stroke volume during PWA-2.0'])\n",
    "  vec.append(df['Mean arterial pressure during PWA-2.0'])\n",
    "  vec.append(df['Cardiac index during PWA-2.0'])\n",
    "  vec.append(df['Sleep duration-2.0'])\n",
    "  vec.append(df['Exposure to tobacco smoke at home-2.0'])\n",
    "  vec.append(df['Exposure to tobacco smoke outside home-2.0'])\n",
    "  vec.append(df['Pack years of smoking-2.0'])\n",
    "  vec.append(df['Pack years adult smoking as proportion of life span exposed to smoking-2.0'])\n",
    "  vec.append(df['LVEDV (mL)'])\n",
    "  vec.append(df['LVESV (mL)'])\n",
    "  vec.append(df['LVSV (mL)'])\n",
    "  vec.append(df['LVEF (%)'])\n",
    "  vec.append(df['LVCO (L/min)'])\n",
    "  vec.append(df['LVM (g)'])\n",
    "  vec.append(df['RVEDV (mL)'])\n",
    "  vec.append(df['RVESV (mL)'])\n",
    "  vec.append(df['RVSV (mL)'])\n",
    "  vec.append(df['RVEF (%)'])\n",
    "  \n",
    "  vec.append(df['Worrier / anxious feelings-2.0'].apply(clean_categorical))\n",
    "  vec.append(df['Shortness of breath walking on level ground-2.0'].apply(clean_categorical))\n",
    "  vec.append(df['Sex-0.0'].apply(clean_categorical))\n",
    "  vec.append(df['Diabetes diagnosis'].apply(clean_categorical))\n",
    "  vec.append(df['Heart attack diagnosed by doctor'].apply(clean_categorical))\n",
    "  vec.append(df['Angina diagnosed by doctor'].apply(clean_categorical))\n",
    "  vec.append(df['Stroke diagnosed by doctor'].apply(clean_categorical))\n",
    "  vec.append(df['High blood pressure diagnosed by doctor'].apply(clean_categorical))\n",
    "  vec.append(df['Cholesterol lowering medication regularly taken'].apply(clean_categorical))\n",
    "  vec.append(df['Blood pressure medication regularly taken'].apply(clean_categorical))\n",
    "  vec.append(df['Insulin medication regularly taken'].apply(clean_categorical))\n",
    "  vec.append(df['Hormone replacement therapy medication regularly taken'].apply(clean_categorical))\n",
    "  vec.append(df['Oral contraceptive pill or minipill medication regularly taken'].apply(clean_categorical))\n",
    "  vec.append(df['Pace-maker-2.0'].apply(clean_categorical))\n",
    "  vec.append(df['Ever had diabetes (Type I or Type II)-0.0'].apply(clean_categorical))\n",
    "  vec.append(df['Long-standing illness, disability or infirmity-2.0'].apply(clean_categorical))\n",
    "  vec.append(df['Tense / \\'highly strung\\'-2.0'].apply(clean_categorical))\n",
    "  vec.append(df['Ever smoked-2.0'].apply(clean_categorical))\n",
    "\n",
    "  vec.append(df['Sleeplessness / insomnia-2.0'].apply(clean_categorical))\n",
    "  vec.append(df['Frequency of heavy DIY in last 4 weeks-2.0'].apply(clean_categorical))\n",
    "  vec.append(df['Alcohol intake frequency.-2.0'].apply(clean_categorical))\n",
    "  vec.append(df['Processed meat intake-2.0'].apply(clean_categorical))\n",
    "  vec.append(df['Beef intake-2.0'].apply(clean_categorical))\n",
    "  vec.append(df['Pork intake-2.0'].apply(clean_categorical))\n",
    "  vec.append(df['Lamb/mutton intake-2.0'].apply(clean_categorical))\n",
    "  vec.append(df['Overall health rating-2.0'].apply(clean_categorical))\n",
    "  vec.append(df['Alcohol usually taken with meals-2.0'].apply(clean_categorical))\n",
    "  vec.append(df['Alcohol drinker status-2.0'].apply(clean_categorical))\n",
    "  vec.append(df['Frequency of drinking alcohol-0.0'].apply(clean_categorical))\n",
    "  vec.append(df['Frequency of consuming six or more units of alcohol-0.0'].apply(clean_categorical))\n",
    "  vec.append(df['Amount of alcohol drunk on a typical drinking day-0.0'].apply(clean_categorical))\n",
    "  vec.append(df['Falls in the last year-2.0'].apply(clean_categorical))\n",
    "  vec.append(df['Weight change compared with 1 year ago-2.0'].apply(clean_categorical))\n",
    "  vec.append(df['Number of days/week walked 10+ minutes-2.0'].apply(clean_categorical))\n",
    "  vec.append(df['Number of days/week of moderate physical activity 10+ minutes-2.0'].apply(clean_categorical))\n",
    "  vec.append(df['Number of days/week of vigorous physical activity 10+ minutes-2.0'].apply(clean_categorical))\n",
    "  vec.append(df['Usual walking pace-2.0'].apply(clean_categorical))\n",
    "  vec.append(df['Frequency of stair climbing in last 4 weeks-2.0'].apply(clean_categorical))\n",
    "  vec.append(df['Frequency of walking for pleasure in last 4 weeks-2.0'].apply(clean_categorical))\n",
    "  vec.append(df['Duration walking for pleasure-2.0'].apply(clean_categorical))\n",
    "  vec.append(df['Frequency of strenuous sports in last 4 weeks-2.0'].apply(clean_categorical))\n",
    "  vec.append(df['Duration of strenuous sports-2.0'].apply(clean_categorical))\n",
    "  vec.append(df['Duration of light DIY-2.0'].apply(clean_categorical))\n",
    "  vec.append(df['Duration of heavy DIY-2.0'].apply(clean_categorical))\n",
    "  vec.append(df['Frequency of other exercises in last 4 weeks-2.0'].apply(clean_categorical))\n",
    "  vec.append(df['Duration of other exercises-2.0'].apply(clean_categorical))\n",
    "  vec.append(df['Current tobacco smoking-2.0'].apply(clean_categorical))\n",
    "  vec.append(df['Past tobacco smoking-2.0'].apply(clean_categorical))\n",
    "  vec.append(df['Smoking/smokers in household-2.0'].apply(clean_categorical))\n",
    "  vec.append(df['Smoking status-2.0'].apply(clean_categorical))\n",
    "  return vec"
   ]
  },
  {
   "cell_type": "code",
   "execution_count": null,
   "id": "f5d11946",
   "metadata": {},
   "outputs": [],
   "source": [
    "cardiac_features_encoding_df = cardiac_features_to_vector_no_onehot_df(data_df)\n",
    "cardiac_features_encoding_df = pd.concat(cardiac_features_encoding_df,axis=1)\n",
    "cardiac_features_encoding_df = cardiac_features_encoding_df.reset_index(drop=True)"
   ]
  },
  {
   "cell_type": "code",
   "execution_count": null,
   "id": "3f77e9b9",
   "metadata": {},
   "outputs": [],
   "source": [
    "one_based_features = ['Sleeplessness / insomnia-2.0','Alcohol intake frequency.-2.0','Overall health rating-2.0','Frequency of consuming six or more units of alcohol-0.0','Falls in the last year-2.0','Usual walking pace-2.0','Past tobacco smoking-2.0']\n",
    "cardiac_features_encoding_df[one_based_features] = cardiac_features_encoding_df[one_based_features] - 1"
   ]
  },
  {
   "cell_type": "code",
   "execution_count": null,
   "id": "92f72008",
   "metadata": {},
   "outputs": [],
   "source": [
    "if SAVE:\n",
    "    cardiac_features_encoding_df.to_csv(join(BASE_PATH,'cardiac_feature_668815_vector_noOH.csv'),index=False)\n",
    "else:\n",
    "    cardiac_features_encoding_df = pd.read_csv(join(BASE_PATH,'cardiac_feature_668815_vector_noOH.csv'))"
   ]
  }
 ],
 "metadata": {
  "kernelspec": {
   "display_name": "Python 3 (ipykernel)",
   "language": "python",
   "name": "python3"
  },
  "language_info": {
   "codemirror_mode": {
    "name": "ipython",
    "version": 3
   },
   "file_extension": ".py",
   "mimetype": "text/x-python",
   "name": "python",
   "nbconvert_exporter": "python",
   "pygments_lexer": "ipython3",
   "version": "3.10.13"
  },
  "vscode": {
   "interpreter": {
    "hash": "a21be7fe9607dfe0c8ee311f8a5f36f314167f49973cd8e355a42459a56bba0d"
   }
  }
 },
 "nbformat": 4,
 "nbformat_minor": 5
}
